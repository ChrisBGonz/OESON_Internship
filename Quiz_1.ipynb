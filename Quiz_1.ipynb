{
  "nbformat": 4,
  "nbformat_minor": 0,
  "metadata": {
    "colab": {
      "provenance": []
    },
    "kernelspec": {
      "name": "python3",
      "display_name": "Python 3"
    },
    "language_info": {
      "name": "python"
    }
  },
  "cells": [
    {
      "cell_type": "markdown",
      "source": [
        "#Name: Christopher Gonzalez"
      ],
      "metadata": {
        "id": "DRpLfrxjLozW"
      }
    },
    {
      "cell_type": "markdown",
      "source": [
        "#Email: christopherg0514@gmail.com"
      ],
      "metadata": {
        "id": "Yh8bRxGQLtxW"
      }
    },
    {
      "cell_type": "code",
      "source": [
        "#Question 1: Setup\n",
        "\n",
        "#Import the necessary libraries.\n",
        "import pandas as pd\n",
        "import numpy as np\n",
        "\n",
        "#Create a DataFrame using the given data.\n",
        "data =  {\n",
        " 'Name': ['Alice', 'Bob', 'Charlie', 'David', 'Eva'],\n",
        " 'Age': [24, 27, 22, 32, 29],\n",
        " 'City': ['New York', 'Los Angeles', 'Chicago', 'Houston', 'Phoenix']\n",
        "}\n",
        "\n",
        "df = pd.DataFrame(data)\n",
        "\n",
        "#Display the DataFrame.\n",
        "print(df)"
      ],
      "metadata": {
        "colab": {
          "base_uri": "https://localhost:8080/"
        },
        "id": "tlJqc33XMLw-",
        "outputId": "983ca3be-a935-41c9-976c-c056c0f8f596"
      },
      "execution_count": 14,
      "outputs": [
        {
          "output_type": "stream",
          "name": "stdout",
          "text": [
            "      Name  Age         City\n",
            "0    Alice   24     New York\n",
            "1      Bob   27  Los Angeles\n",
            "2  Charlie   22      Chicago\n",
            "3    David   32      Houston\n",
            "4      Eva   29      Phoenix\n"
          ]
        }
      ]
    },
    {
      "cell_type": "code",
      "source": [
        "#Question 2: Pandas Dataframe Operations\n",
        "\n",
        "#Select the 'Name' and 'City' columns and display them.\n",
        "names = df['Name']\n",
        "cities = df['City']\n",
        "\n",
        "print('Names:\\n', names)\n",
        "print('\\nCities:\\n', cities)\n",
        "\n",
        "#Filter the DataFrame to only include rows where 'Age' is greater than 25 and display the result.\n",
        "filtered_df = df[df['Age'] > 25]\n",
        "print('\\nFiltered DataFrame:\\n', filtered_df)\n",
        "\n",
        "#Sort the DataFrame by 'Age' in ascending order and display the sorted DataFrame.\n",
        "sorted_df = df.sort_values(by = 'Age')\n",
        "print('\\nSorted DataFrame:\\n', sorted_df)\n",
        "\n",
        "#Add a new column 'Age_Group' that categorizes ages into 'Young' (less than 30) and 'Adult' (30 and above), and display the updated DataFrame.\n",
        "df['Age_Group'] = np.where(df['Age'] < 30, 'Young', 'Adult')\n",
        "print('\\nUpdated DataFrame:\\n', df)"
      ],
      "metadata": {
        "colab": {
          "base_uri": "https://localhost:8080/"
        },
        "id": "r77iYnXzMzh1",
        "outputId": "74ddde14-01c2-41a4-899a-541c981cf2f5"
      },
      "execution_count": 15,
      "outputs": [
        {
          "output_type": "stream",
          "name": "stdout",
          "text": [
            "Names:\n",
            " 0      Alice\n",
            "1        Bob\n",
            "2    Charlie\n",
            "3      David\n",
            "4        Eva\n",
            "Name: Name, dtype: object\n",
            "\n",
            "Cities:\n",
            " 0       New York\n",
            "1    Los Angeles\n",
            "2        Chicago\n",
            "3        Houston\n",
            "4        Phoenix\n",
            "Name: City, dtype: object\n",
            "\n",
            "Filtered DataFrame:\n",
            "     Name  Age         City\n",
            "1    Bob   27  Los Angeles\n",
            "3  David   32      Houston\n",
            "4    Eva   29      Phoenix\n",
            "\n",
            "Sorted DataFrame:\n",
            "       Name  Age         City\n",
            "2  Charlie   22      Chicago\n",
            "0    Alice   24     New York\n",
            "1      Bob   27  Los Angeles\n",
            "4      Eva   29      Phoenix\n",
            "3    David   32      Houston\n",
            "\n",
            "Updated DataFrame:\n",
            "       Name  Age         City Age_Group\n",
            "0    Alice   24     New York     Young\n",
            "1      Bob   27  Los Angeles     Young\n",
            "2  Charlie   22      Chicago     Young\n",
            "3    David   32      Houston     Adult\n",
            "4      Eva   29      Phoenix     Young\n"
          ]
        }
      ]
    },
    {
      "cell_type": "code",
      "source": [
        "#Question 3: Data Structures\n",
        "\n",
        "#Create a list of new ages: [25, 28, 23, 33, 30]. Update the 'Age' column in the DataFrame with these new ages and display the updated DataFrame.\n",
        "new_ages = [25, 28, 23, 33, 30]\n",
        "df['Age'] = new_ages\n",
        "\n",
        "print('\\nUpdated DataFrame:\\n', df)\n",
        "\n",
        "#Create a dictionary mapping names to new cities: {'Alice': 'San Francisco', 'Bob': 'Seattle', 'Charlie': 'Austin', 'David': 'Dallas', 'Eva': 'Miami'}.\n",
        "#Update the 'City' column using this dictionary and display the updated DataFrame.\n",
        "new_cities = {'Alice': 'San Francisco', 'Bob': 'Seattle', 'Charlie': 'Austin', 'David': 'Dallas', 'Eva': 'Miami'}\n",
        "df['City'] = df['Name'].map(new_cities)\n",
        "\n",
        "print('\\nUpdated DataFrame:\\n', df)"
      ],
      "metadata": {
        "colab": {
          "base_uri": "https://localhost:8080/"
        },
        "id": "3zD9PbWBvB_b",
        "outputId": "85b5d2ee-cd8c-4787-ea1a-f3825a7eb890"
      },
      "execution_count": 16,
      "outputs": [
        {
          "output_type": "stream",
          "name": "stdout",
          "text": [
            "\n",
            "Updated DataFrame:\n",
            "       Name  Age         City Age_Group\n",
            "0    Alice   25     New York     Young\n",
            "1      Bob   28  Los Angeles     Young\n",
            "2  Charlie   23      Chicago     Young\n",
            "3    David   33      Houston     Adult\n",
            "4      Eva   30      Phoenix     Young\n",
            "\n",
            "Updated DataFrame:\n",
            "       Name  Age           City Age_Group\n",
            "0    Alice   25  San Francisco     Young\n",
            "1      Bob   28        Seattle     Young\n",
            "2  Charlie   23         Austin     Young\n",
            "3    David   33         Dallas     Adult\n",
            "4      Eva   30          Miami     Young\n"
          ]
        }
      ]
    },
    {
      "cell_type": "code",
      "source": [
        "#Question 4:Control Flow\n",
        "\n",
        "#Use a for loop to print the name and age of each person in the DataFrame.\n",
        "for index, row in df.iterrows():\n",
        "  print(row['Name'], row['Age'])\n",
        "\n",
        "#Write a function to categorize ages into 'Youth' (less than 30) and 'Adult' (30 and above).\n",
        "#Apply this function to create a new column 'Category' in the DataFrame and display the updated DataFrame.\n",
        "def categorize_age(age):\n",
        "  if age < 30:\n",
        "    return 'Youth'\n",
        "\n",
        "  else:\n",
        "    return 'Adult'\n",
        "\n",
        "df['Category'] = df['Age'].apply(categorize_age)\n",
        "\n",
        "print('\\nUpdated DataFrame:\\n', df)"
      ],
      "metadata": {
        "colab": {
          "base_uri": "https://localhost:8080/"
        },
        "id": "LtHbrVLkv4cX",
        "outputId": "987ad3b2-4d82-4c18-d162-b42ff64efed7"
      },
      "execution_count": 17,
      "outputs": [
        {
          "output_type": "stream",
          "name": "stdout",
          "text": [
            "Alice 25\n",
            "Bob 28\n",
            "Charlie 23\n",
            "David 33\n",
            "Eva 30\n",
            "\n",
            "Updated DataFrame:\n",
            "       Name  Age           City Age_Group Category\n",
            "0    Alice   25  San Francisco     Young    Youth\n",
            "1      Bob   28        Seattle     Young    Youth\n",
            "2  Charlie   23         Austin     Young    Youth\n",
            "3    David   33         Dallas     Adult    Adult\n",
            "4      Eva   30          Miami     Young    Adult\n"
          ]
        }
      ]
    }
  ]
}