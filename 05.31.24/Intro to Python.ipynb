{
 "cells": [
  {
   "cell_type": "markdown",
   "id": "ec263a09",
   "metadata": {},
   "source": [
    "# Introduction to Python Coding"
   ]
  },
  {
   "cell_type": "markdown",
   "id": "1e5b3209",
   "metadata": {},
   "source": [
    "### Basic Operators"
   ]
  },
  {
   "cell_type": "code",
   "execution_count": 2,
   "id": "5d0004e9",
   "metadata": {},
   "outputs": [
    {
     "name": "stdout",
     "output_type": "stream",
     "text": [
      "8\n"
     ]
    }
   ],
   "source": [
    "#Addition\n",
    "x = 5 + 3\n",
    "print(x)"
   ]
  },
  {
   "cell_type": "code",
   "execution_count": 3,
   "id": "89222f41",
   "metadata": {},
   "outputs": [
    {
     "name": "stdout",
     "output_type": "stream",
     "text": [
      "3\n"
     ]
    }
   ],
   "source": [
    "#Subtraction\n",
    "x = 8 - 5\n",
    "print(x)"
   ]
  },
  {
   "cell_type": "code",
   "execution_count": 4,
   "id": "f5032067",
   "metadata": {},
   "outputs": [
    {
     "name": "stdout",
     "output_type": "stream",
     "text": [
      "40\n"
     ]
    }
   ],
   "source": [
    "#Multiplication\n",
    "x = 4 * 10\n",
    "print(x)"
   ]
  },
  {
   "cell_type": "code",
   "execution_count": 7,
   "id": "c0508d71",
   "metadata": {},
   "outputs": [
    {
     "name": "stdout",
     "output_type": "stream",
     "text": [
      "0\n"
     ]
    }
   ],
   "source": [
    "#Modulus\n",
    "x = 4 % 2\n",
    "print(x)"
   ]
  },
  {
   "cell_type": "code",
   "execution_count": 8,
   "id": "8af10e25",
   "metadata": {},
   "outputs": [
    {
     "name": "stdout",
     "output_type": "stream",
     "text": [
      "2.5\n"
     ]
    }
   ],
   "source": [
    "#Floor division\n",
    "x = 5 / 2\n",
    "print(x)"
   ]
  },
  {
   "cell_type": "code",
   "execution_count": null,
   "id": "5bbc3d57",
   "metadata": {},
   "outputs": [],
   "source": [
    "#Comparison Operator"
   ]
  },
  {
   "cell_type": "code",
   "execution_count": 9,
   "id": "27269ddc",
   "metadata": {},
   "outputs": [
    {
     "data": {
      "text/plain": [
       "False"
      ]
     },
     "execution_count": 9,
     "metadata": {},
     "output_type": "execute_result"
    }
   ],
   "source": [
    "#Equal to (==)\n",
    "5 == 4"
   ]
  },
  {
   "cell_type": "code",
   "execution_count": 10,
   "id": "b23ac909",
   "metadata": {},
   "outputs": [
    {
     "data": {
      "text/plain": [
       "True"
      ]
     },
     "execution_count": 10,
     "metadata": {},
     "output_type": "execute_result"
    }
   ],
   "source": [
    "#Not Equal to (!=)\n",
    "4 != 3"
   ]
  },
  {
   "cell_type": "code",
   "execution_count": 11,
   "id": "38fcf002",
   "metadata": {},
   "outputs": [
    {
     "data": {
      "text/plain": [
       "True"
      ]
     },
     "execution_count": 11,
     "metadata": {},
     "output_type": "execute_result"
    }
   ],
   "source": [
    "#Greater Than (>)\n",
    "5 > 2"
   ]
  },
  {
   "cell_type": "code",
   "execution_count": 12,
   "id": "99124b76",
   "metadata": {},
   "outputs": [
    {
     "data": {
      "text/plain": [
       "True"
      ]
     },
     "execution_count": 12,
     "metadata": {},
     "output_type": "execute_result"
    }
   ],
   "source": [
    "#Less Than (<)\n",
    "4 < 7"
   ]
  },
  {
   "cell_type": "code",
   "execution_count": 13,
   "id": "90c43ee0",
   "metadata": {},
   "outputs": [
    {
     "data": {
      "text/plain": [
       "True"
      ]
     },
     "execution_count": 13,
     "metadata": {},
     "output_type": "execute_result"
    }
   ],
   "source": [
    "#Greater Than or Equal To\n",
    "5 >= 3"
   ]
  },
  {
   "cell_type": "code",
   "execution_count": 14,
   "id": "75fa2542",
   "metadata": {},
   "outputs": [
    {
     "data": {
      "text/plain": [
       "True"
      ]
     },
     "execution_count": 14,
     "metadata": {},
     "output_type": "execute_result"
    }
   ],
   "source": [
    "#Less Than or Equal To\n",
    "8 <= 10"
   ]
  },
  {
   "cell_type": "markdown",
   "id": "d869ad76",
   "metadata": {},
   "source": [
    "### Assignment Operators"
   ]
  },
  {
   "cell_type": "code",
   "execution_count": 30,
   "id": "2b87577b",
   "metadata": {},
   "outputs": [
    {
     "name": "stdout",
     "output_type": "stream",
     "text": [
      "10\n"
     ]
    }
   ],
   "source": [
    "#Assign (=)\n",
    "x = 10\n",
    "print(x)"
   ]
  },
  {
   "cell_type": "code",
   "execution_count": 31,
   "id": "cac0c0a0",
   "metadata": {},
   "outputs": [
    {
     "name": "stdout",
     "output_type": "stream",
     "text": [
      "15\n"
     ]
    }
   ],
   "source": [
    "#Add and Assign\n",
    "x += 5\n",
    "print(x)"
   ]
  },
  {
   "cell_type": "code",
   "execution_count": 32,
   "id": "1535671f",
   "metadata": {},
   "outputs": [
    {
     "name": "stdout",
     "output_type": "stream",
     "text": [
      "8\n"
     ]
    }
   ],
   "source": [
    "#Subtract and Assign\n",
    "x -= 7\n",
    "print(x)"
   ]
  },
  {
   "cell_type": "code",
   "execution_count": 33,
   "id": "5456d6ed",
   "metadata": {},
   "outputs": [
    {
     "name": "stdout",
     "output_type": "stream",
     "text": [
      "48\n"
     ]
    }
   ],
   "source": [
    "#Multiply and Assign\n",
    "x *= 6\n",
    "print(x)"
   ]
  },
  {
   "cell_type": "code",
   "execution_count": 34,
   "id": "ccc19ffc",
   "metadata": {},
   "outputs": [
    {
     "name": "stdout",
     "output_type": "stream",
     "text": [
      "12.0\n"
     ]
    }
   ],
   "source": [
    "#Divide and Assign\n",
    "x /= 4\n",
    "print(x)"
   ]
  },
  {
   "cell_type": "code",
   "execution_count": 35,
   "id": "a8e87e6c",
   "metadata": {},
   "outputs": [
    {
     "name": "stdout",
     "output_type": "stream",
     "text": [
      "4.0\n"
     ]
    }
   ],
   "source": [
    "#Floor Division and Assign\n",
    "x /= 3\n",
    "print(x)"
   ]
  },
  {
   "cell_type": "code",
   "execution_count": 36,
   "id": "b038c61c",
   "metadata": {},
   "outputs": [
    {
     "name": "stdout",
     "output_type": "stream",
     "text": [
      "0.0\n"
     ]
    }
   ],
   "source": [
    "#Modulus and Assign\n",
    "x %= 2\n",
    "print(x)"
   ]
  },
  {
   "cell_type": "markdown",
   "id": "df2495b3",
   "metadata": {},
   "source": [
    "### Logical Operators"
   ]
  },
  {
   "cell_type": "code",
   "execution_count": 37,
   "id": "ba7a3629",
   "metadata": {},
   "outputs": [
    {
     "data": {
      "text/plain": [
       "False"
      ]
     },
     "execution_count": 37,
     "metadata": {},
     "output_type": "execute_result"
    }
   ],
   "source": [
    "#and\n",
    "(4 > 5) and (3 < 6)"
   ]
  },
  {
   "cell_type": "code",
   "execution_count": 38,
   "id": "aeac2a64",
   "metadata": {},
   "outputs": [
    {
     "data": {
      "text/plain": [
       "True"
      ]
     },
     "execution_count": 38,
     "metadata": {},
     "output_type": "execute_result"
    }
   ],
   "source": [
    "#or\n",
    "(4 > 5) or (3 < 6)"
   ]
  },
  {
   "cell_type": "code",
   "execution_count": 39,
   "id": "e6925bba",
   "metadata": {},
   "outputs": [
    {
     "data": {
      "text/plain": [
       "True"
      ]
     },
     "execution_count": 39,
     "metadata": {},
     "output_type": "execute_result"
    }
   ],
   "source": [
    "#not\n",
    "not (4 > 5)"
   ]
  },
  {
   "cell_type": "markdown",
   "id": "7d3510bc",
   "metadata": {},
   "source": [
    "### Data Structures"
   ]
  },
  {
   "cell_type": "code",
   "execution_count": 49,
   "id": "34365b24",
   "metadata": {},
   "outputs": [
    {
     "name": "stdout",
     "output_type": "stream",
     "text": [
      "[1, 2, 3, 'a', 'b', 'c']\n",
      "1\n",
      "a\n",
      "[1, 2, 5, 'a', 'b', 'c']\n",
      "[1, 2, 5, 'a', 'b', 'c', 'cat']\n",
      "[1, 2, 5, 'b', 'c', 'cat']\n",
      "[1, 2, 5, 'b', 'c', 'cat', 'new_element']\n"
     ]
    }
   ],
   "source": [
    "#List\n",
    "myList = [1, 2, 3, 'a', 'b', 'c']\n",
    "print(myList)\n",
    "\n",
    "print(myList[0])\n",
    "print(myList[3])\n",
    "\n",
    "myList[2] = 5\n",
    "print(myList)\n",
    "\n",
    "myList.append('cat')\n",
    "print(myList)\n",
    "\n",
    "myList.remove('a')\n",
    "print(myList)\n",
    "\n",
    "myList.append('new_element')\n",
    "print(myList)"
   ]
  },
  {
   "cell_type": "code",
   "execution_count": 53,
   "id": "e9e3d8c4",
   "metadata": {},
   "outputs": [
    {
     "name": "stdout",
     "output_type": "stream",
     "text": [
      "(1, 2, 3, 'a', 'b', 'c')\n",
      "1\n",
      "a\n"
     ]
    },
    {
     "ename": "AttributeError",
     "evalue": "'tuple' object has no attribute 'append'",
     "output_type": "error",
     "traceback": [
      "\u001b[0;31m---------------------------------------------------------------------------\u001b[0m",
      "\u001b[0;31mAttributeError\u001b[0m                            Traceback (most recent call last)",
      "Cell \u001b[0;32mIn[53], line 17\u001b[0m\n\u001b[1;32m      6\u001b[0m \u001b[38;5;28mprint\u001b[39m(mytuple[\u001b[38;5;241m3\u001b[39m])\n\u001b[1;32m      8\u001b[0m \u001b[38;5;66;03m#mytuple[2] = 5\u001b[39;00m\n\u001b[1;32m      9\u001b[0m \u001b[38;5;66;03m#print(mytuple)\u001b[39;00m\n\u001b[1;32m     10\u001b[0m \n\u001b[0;32m   (...)\u001b[0m\n\u001b[1;32m     14\u001b[0m \u001b[38;5;66;03m#mytuple.remove('a')\u001b[39;00m\n\u001b[1;32m     15\u001b[0m \u001b[38;5;66;03m#print(mytuple)\u001b[39;00m\n\u001b[0;32m---> 17\u001b[0m mytuple\u001b[38;5;241m.\u001b[39mappend(\u001b[38;5;124m'\u001b[39m\u001b[38;5;124mnew_element\u001b[39m\u001b[38;5;124m'\u001b[39m)\n\u001b[1;32m     18\u001b[0m \u001b[38;5;28mprint\u001b[39m(mytuple)\n",
      "\u001b[0;31mAttributeError\u001b[0m: 'tuple' object has no attribute 'append'"
     ]
    }
   ],
   "source": [
    "#Tuple\n",
    "myTuple = (1, 2, 3, 'a', 'b', 'c')\n",
    "print(myTuple)\n",
    "\n",
    "print(myTuple[0])\n",
    "print(myTuple[3])\n",
    "\n",
    "#The following will give you errors because tuple is not mutable (can't be changed once created):\n",
    "myTuple[2] = 5\n",
    "print(myTuple)\n",
    "\n",
    "myTuple.append('cat')\n",
    "print(myTuple)\n",
    "\n",
    "myTuple.remove('a')\n",
    "print(myTuple)\n",
    "\n",
    "myTuple.append('new_element')\n",
    "print(myTuple)"
   ]
  },
  {
   "cell_type": "code",
   "execution_count": 60,
   "id": "684e5d82",
   "metadata": {},
   "outputs": [
    {
     "name": "stdout",
     "output_type": "stream",
     "text": [
      "{'Name': 'Christopher', 'Age': 21, 'Gender': 'Male'}\n",
      "Christopher\n",
      "{'Name': 'Christopher', 'Age': 25, 'Gender': 'Male'}\n"
     ]
    }
   ],
   "source": [
    "#Dictionary\n",
    "myDict = {'Name': 'Christopher', 'Age': 21, 'Gender': 'Male'}\n",
    "print(myDict)\n",
    "\n",
    "print(myDict['Name'])\n",
    "\n",
    "myDict['Age'] = 25\n",
    "print(myDict)"
   ]
  },
  {
   "cell_type": "code",
   "execution_count": 65,
   "id": "8e4ce9fc",
   "metadata": {},
   "outputs": [
    {
     "name": "stdout",
     "output_type": "stream",
     "text": [
      "{1, 2, 3, 'b', 'c', 'a'}\n",
      "{1, 2, 3, 'cat', 'b', 'c', 'a'}\n",
      "{1, 2, 3, 'cat', 'b', 'c'}\n"
     ]
    }
   ],
   "source": [
    "#Sets\n",
    "mySet = {1, 2, 3, 'a', 'b', 'c'}\n",
    "print(mySet)\n",
    "\n",
    "mySet.add('cat')\n",
    "print(mySet)\n",
    "\n",
    "mySet.remove('a')\n",
    "print(mySet)"
   ]
  },
  {
   "cell_type": "code",
   "execution_count": 70,
   "id": "95a5b1c2",
   "metadata": {},
   "outputs": [
    {
     "name": "stdout",
     "output_type": "stream",
     "text": [
      "Hello\n",
      "Hello\n",
      "H\n",
      "el\n"
     ]
    }
   ],
   "source": [
    "#String\n",
    "myString = 'Hello'\n",
    "print(myString)\n",
    "\n",
    "print(myString[0:5])\n",
    "print(myString[0])\n",
    "print(myString[1:3])"
   ]
  }
 ],
 "metadata": {
  "kernelspec": {
   "display_name": "Python 3 (ipykernel)",
   "language": "python",
   "name": "python3"
  },
  "language_info": {
   "codemirror_mode": {
    "name": "ipython",
    "version": 3
   },
   "file_extension": ".py",
   "mimetype": "text/x-python",
   "name": "python",
   "nbconvert_exporter": "python",
   "pygments_lexer": "ipython3",
   "version": "3.11.7"
  }
 },
 "nbformat": 4,
 "nbformat_minor": 5
}
