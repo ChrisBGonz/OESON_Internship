{
 "cells": [
  {
   "cell_type": "markdown",
   "id": "74ea0a6f",
   "metadata": {},
   "source": [
    "# Introduction to Pandas and Numpy"
   ]
  },
  {
   "cell_type": "markdown",
   "id": "86b71507",
   "metadata": {},
   "source": [
    "## Part 1: Introduction to Numpy"
   ]
  },
  {
   "cell_type": "code",
   "execution_count": 1,
   "id": "c9b50c1d",
   "metadata": {},
   "outputs": [
    {
     "name": "stdout",
     "output_type": "stream",
     "text": [
      "Requirement already satisfied: numpy in /opt/anaconda3/lib/python3.11/site-packages (1.26.4)\r\n"
     ]
    }
   ],
   "source": [
    "#Installation and Setup\n",
    "!pip install numpy\n",
    "import numpy as np"
   ]
  },
  {
   "cell_type": "code",
   "execution_count": 2,
   "id": "179232f9",
   "metadata": {},
   "outputs": [
    {
     "name": "stdout",
     "output_type": "stream",
     "text": [
      "[1 2 3 4 5]\n",
      "[0. 0. 0. 0. 0.]\n",
      "[[1. 1. 1.]\n",
      " [1. 1. 1.]\n",
      " [1. 1. 1.]]\n",
      "[0 2 4 6 8]\n",
      "[[0.59517958 0.09573772 0.90143071]\n",
      " [0.6609939  0.44803587 0.25252079]\n",
      " [0.01877787 0.98489837 0.54294981]]\n"
     ]
    }
   ],
   "source": [
    "#Create an Array From a List\n",
    "arr1 = np.array([1, 2, 3, 4, 5])\n",
    "print(arr1)\n",
    "\n",
    "#Create an Array of Zeros\n",
    "arr2 = np.zeros(5)\n",
    "print(arr2)\n",
    "\n",
    "#Create an Array of Ones\n",
    "arr3 = np.ones((3, 3))\n",
    "print(arr3)\n",
    "\n",
    "#Create an Array of Evenly Spaced Values\n",
    "arr4 = np.arange(0, 10, 2)\n",
    "print(arr4)\n",
    "\n",
    "#Create an Array of Random Values\n",
    "arr5 = np.random.rand(3, 3)\n",
    "print(arr5)"
   ]
  },
  {
   "cell_type": "code",
   "execution_count": 3,
   "id": "7b6b4eaa",
   "metadata": {},
   "outputs": [
    {
     "name": "stdout",
     "output_type": "stream",
     "text": [
      "(5,)\n",
      "5\n",
      "int64\n"
     ]
    }
   ],
   "source": [
    "#Array Attributes: Shape, Size, Dtype\n",
    "\n",
    "#Shape of the Array\n",
    "print(arr1.shape)\n",
    "\n",
    "#Size of the Array\n",
    "print(arr1.size)\n",
    "\n",
    "#Data Type of the Array\n",
    "print(arr1.dtype)"
   ]
  },
  {
   "cell_type": "code",
   "execution_count": 4,
   "id": "0d19f8ba",
   "metadata": {},
   "outputs": [
    {
     "name": "stdout",
     "output_type": "stream",
     "text": [
      "1\n",
      "[2 3 4]\n"
     ]
    }
   ],
   "source": [
    "#Indexing and Slicing Arrays\n",
    "\n",
    "#Accessing Elements\n",
    "print(arr1[0])\n",
    "\n",
    "#Slicing\n",
    "print(arr1[1:4])"
   ]
  },
  {
   "cell_type": "code",
   "execution_count": 5,
   "id": "2faf2f74",
   "metadata": {},
   "outputs": [
    {
     "name": "stdout",
     "output_type": "stream",
     "text": [
      "[1. 2. 3. 4. 5.]\n",
      "15\n",
      "[ 2  4  6  8 10]\n"
     ]
    }
   ],
   "source": [
    "#Array Operations: Arithmetic, Aggregation, Broadcasting\n",
    "\n",
    "#Arithmetic Operations\n",
    "arr6 = arr1 + arr2\n",
    "print(arr6)\n",
    "\n",
    "#Aggregation Functions\n",
    "print(np.sum(arr1))\n",
    "\n",
    "#Broadcasting\n",
    "arr7 = arr1 * 2\n",
    "print(arr7)"
   ]
  },
  {
   "cell_type": "code",
   "execution_count": 6,
   "id": "301af4b8",
   "metadata": {},
   "outputs": [
    {
     "name": "stdout",
     "output_type": "stream",
     "text": [
      "[[0 1 2]\n",
      " [3 4 5]\n",
      " [6 7 8]]\n"
     ]
    }
   ],
   "source": [
    "#Reshaping Arrays\n",
    "arr8 = np.arange(9).reshape(3, 3)\n",
    "print(arr8)"
   ]
  },
  {
   "cell_type": "code",
   "execution_count": 7,
   "id": "7e3883b5",
   "metadata": {},
   "outputs": [
    {
     "name": "stdout",
     "output_type": "stream",
     "text": [
      "[[0 1 2]\n",
      " [3 4 5]\n",
      " [6 7 8]\n",
      " [0 1 2]\n",
      " [3 4 5]\n",
      " [6 7 8]]\n",
      "[[0 1 2]\n",
      " [3 4 5]\n",
      " [6 7 8]] [[0 1 2]\n",
      " [3 4 5]\n",
      " [6 7 8]]\n"
     ]
    }
   ],
   "source": [
    "#Stacking and Splitting Arrays\n",
    "\n",
    "#Stacking Arrays (Vertically)\n",
    "arr9 = np.vstack((arr8, arr8))\n",
    "print(arr9)\n",
    "\n",
    "#Splitting Arrays\n",
    "arr10, arr11 = np.split(arr9, 2)\n",
    "print(arr10, arr11)"
   ]
  },
  {
   "cell_type": "code",
   "execution_count": 8,
   "id": "405d1d4d",
   "metadata": {},
   "outputs": [
    {
     "name": "stdout",
     "output_type": "stream",
     "text": [
      "[[0 3 6]\n",
      " [1 4 7]\n",
      " [2 5 8]]\n"
     ]
    }
   ],
   "source": [
    "#Transposing Arrays\n",
    "arr12 = arr8.T\n",
    "print(arr12)"
   ]
  },
  {
   "cell_type": "code",
   "execution_count": 9,
   "id": "70b722bc",
   "metadata": {},
   "outputs": [
    {
     "name": "stdout",
     "output_type": "stream",
     "text": [
      "[ 0.84147098  0.90929743  0.14112001 -0.7568025  -0.95892427]\n",
      "[1 3 5]\n",
      "[4 5]\n",
      "[11 12 13 14 15]\n",
      "[[11 12 13 14 15]\n",
      " [21 22 23 24 25]\n",
      " [31 32 33 34 35]\n",
      " [41 42 43 44 45]\n",
      " [51 52 53 54 55]]\n"
     ]
    }
   ],
   "source": [
    "#Universal Functions (ufuncs)/Advanced Numpy Functions\n",
    "\n",
    "#Sin\n",
    "arr13 = np.sin(arr1)\n",
    "print(arr13)\n",
    "\n",
    "#Fancy Indexing\n",
    "indices = np.array([0, 2, 4])\n",
    "print(arr1[indices])\n",
    "\n",
    "#Boolean Indexing\n",
    "bool_arr = arr1 > 3\n",
    "print(arr1[bool_arr])\n",
    "\n",
    "#Vectorized Operations\n",
    "arr14 = arr1 + 10\n",
    "print(arr14)\n",
    "\n",
    "#Broadcasting Pt.2\n",
    "arr15 = arr1 + np.array([[10], [20], [30], [40], [50]])\n",
    "print(arr15)"
   ]
  },
  {
   "cell_type": "code",
   "execution_count": 10,
   "id": "40114e32",
   "metadata": {},
   "outputs": [
    {
     "name": "stdout",
     "output_type": "stream",
     "text": [
      "[[19 22]\n",
      " [43 50]]\n",
      "[[-2.   1. ]\n",
      " [ 1.5 -0.5]]\n"
     ]
    }
   ],
   "source": [
    "#Implementing Matrix Operations: Matrix Multiplication\n",
    "\n",
    "#Create two matrices\n",
    "A = np.array([[1, 2], [3, 4]])\n",
    "B = np.array([[5, 6], [7, 8]])\n",
    "\n",
    "#Multiply Matrices\n",
    "C = np.dot(A, B)\n",
    "print(C)\n",
    "\n",
    "#Matrix Inversion\n",
    "A_inv = np.linalg.inv(A)\n",
    "print(A_inv)"
   ]
  },
  {
   "cell_type": "markdown",
   "id": "1b9d7a4d",
   "metadata": {},
   "source": [
    "## Part 2: Introduction to Pandas"
   ]
  },
  {
   "cell_type": "code",
   "execution_count": 11,
   "id": "9270b278",
   "metadata": {},
   "outputs": [
    {
     "name": "stdout",
     "output_type": "stream",
     "text": [
      "Requirement already satisfied: pandas in /opt/anaconda3/lib/python3.11/site-packages (2.1.4)\n",
      "Requirement already satisfied: numpy<2,>=1.23.2 in /opt/anaconda3/lib/python3.11/site-packages (from pandas) (1.26.4)\n",
      "Requirement already satisfied: python-dateutil>=2.8.2 in /opt/anaconda3/lib/python3.11/site-packages (from pandas) (2.8.2)\n",
      "Requirement already satisfied: pytz>=2020.1 in /opt/anaconda3/lib/python3.11/site-packages (from pandas) (2023.3.post1)\n",
      "Requirement already satisfied: tzdata>=2022.1 in /opt/anaconda3/lib/python3.11/site-packages (from pandas) (2023.3)\n",
      "Requirement already satisfied: six>=1.5 in /opt/anaconda3/lib/python3.11/site-packages (from python-dateutil>=2.8.2->pandas) (1.16.0)\n"
     ]
    }
   ],
   "source": [
    "#Installation and Setup\n",
    "!pip install pandas\n",
    "import pandas as pd"
   ]
  },
  {
   "cell_type": "code",
   "execution_count": 12,
   "id": "e1ff19ee",
   "metadata": {},
   "outputs": [
    {
     "name": "stdout",
     "output_type": "stream",
     "text": [
      "0    1\n",
      "1    2\n",
      "2    3\n",
      "3    4\n",
      "4    5\n",
      "dtype: int64\n",
      "0    1\n",
      "1    2\n",
      "2    3\n",
      "3    4\n",
      "4    5\n",
      "dtype: int64\n",
      "a    1\n",
      "b    2\n",
      "c    3\n",
      "dtype: int64\n"
     ]
    }
   ],
   "source": [
    "#Create a Series From a List\n",
    "s1 = pd.Series([1, 2, 3, 4, 5])\n",
    "print(s1)\n",
    "\n",
    "#Create a Series From a Array\n",
    "s2 = pd.Series(np.array([1, 2, 3, 4, 5]))\n",
    "print(s2)\n",
    "\n",
    "#Create a Series From a Dictionary\n",
    "s3 = pd.Series({'a': 1, 'b': 2, 'c': 3})\n",
    "print(s3)"
   ]
  },
  {
   "cell_type": "code",
   "execution_count": 13,
   "id": "83e2fa55",
   "metadata": {},
   "outputs": [
    {
     "name": "stdout",
     "output_type": "stream",
     "text": [
      "1\n",
      "1\n",
      "a    1\n",
      "b    2\n",
      "dtype: int64\n"
     ]
    },
    {
     "name": "stderr",
     "output_type": "stream",
     "text": [
      "/var/folders/gx/jbn8c3zn58vgzd85b0656s400000gn/T/ipykernel_1719/2630409546.py:7: FutureWarning: Series.__getitem__ treating keys as positions is deprecated. In a future version, integer keys will always be treated as labels (consistent with DataFrame behavior). To access a value by position, use `ser.iloc[pos]`\n",
      "  print(s3[0])\n"
     ]
    }
   ],
   "source": [
    "#Indexing and Slicing Series\n",
    "\n",
    "#Accessing Elememts by Label\n",
    "print(s3['a'])\n",
    "\n",
    "#Accessing Elememts by Position\n",
    "print(s3[0])\n",
    "\n",
    "#Slicing\n",
    "print(s3[:2])"
   ]
  },
  {
   "cell_type": "code",
   "execution_count": 14,
   "id": "5ec7492b",
   "metadata": {},
   "outputs": [
    {
     "name": "stdout",
     "output_type": "stream",
     "text": [
      "0     2\n",
      "1     4\n",
      "2     6\n",
      "3     8\n",
      "4    10\n",
      "dtype: int64\n",
      "0     2\n",
      "1     4\n",
      "2     6\n",
      "3     8\n",
      "4    10\n",
      "dtype: int64\n",
      "15\n"
     ]
    }
   ],
   "source": [
    "#Operations on Series\n",
    "\n",
    "#Arithmetic Operations\n",
    "s4 = s1 + s2\n",
    "print(s4)\n",
    "\n",
    "#Element-wise Operations\n",
    "s5 = s1 * 2\n",
    "print(s5)\n",
    "\n",
    "#Aggregation Function\n",
    "print(s1.sum())"
   ]
  },
  {
   "cell_type": "code",
   "execution_count": 15,
   "id": "9741f4d8",
   "metadata": {},
   "outputs": [
    {
     "name": "stdout",
     "output_type": "stream",
     "text": [
      "0    False\n",
      "1    False\n",
      "2    False\n",
      "3    False\n",
      "4    False\n",
      "dtype: bool\n"
     ]
    }
   ],
   "source": [
    "#Handling Missing Data\n",
    "\n",
    "#Drop Missing Values\n",
    "s6 = s1.dropna()\n",
    "\n",
    "#Fill Missing Values\n",
    "s7 = s1.fillna(0)\n",
    "\n",
    "#Check for Missing Values\n",
    "print(s1.isnull())"
   ]
  },
  {
   "cell_type": "code",
   "execution_count": 16,
   "id": "c7f6df5e",
   "metadata": {},
   "outputs": [
    {
     "name": "stdout",
     "output_type": "stream",
     "text": [
      "      Name  Age\n",
      "0    Alice   25\n",
      "1      Bob   30\n",
      "2  Charlie   35\n",
      "      Name  Age\n",
      "0    Alice   25\n",
      "1      Bob   30\n",
      "2  Charlie   35\n"
     ]
    }
   ],
   "source": [
    "#Creating DataFrames\n",
    "\n",
    "#Create DataFrame From a Dictionary\n",
    "data = {'Name': ['Alice', 'Bob', 'Charlie'], 'Age': [25, 30, 35]}\n",
    "df1 = pd.DataFrame(data)\n",
    "print(df1)\n",
    "\n",
    "#Create DataFrame From a List\n",
    "data = [['Alice', 25], ['Bob', 30], ['Charlie', 35]]\n",
    "df2 = pd.DataFrame(data, columns = ['Name', 'Age'])\n",
    "print(df2)"
   ]
  },
  {
   "cell_type": "code",
   "execution_count": 17,
   "id": "a3dc35a3",
   "metadata": {},
   "outputs": [
    {
     "name": "stdout",
     "output_type": "stream",
     "text": [
      "Alice\n",
      "Alice\n",
      "    Name  Age\n",
      "0  Alice   25\n",
      "1    Bob   30\n"
     ]
    }
   ],
   "source": [
    "#Indexing and Slicing DataFrames\n",
    "\n",
    "#Label-based Indexing\n",
    "print(df1.loc[0, 'Name'])\n",
    "\n",
    "#Position-based Indexing\n",
    "print(df1.iloc[0, 0])\n",
    "\n",
    "#Slicing\n",
    "print(df1[:2])"
   ]
  },
  {
   "cell_type": "code",
   "execution_count": 19,
   "id": "f8d47a8c",
   "metadata": {},
   "outputs": [
    {
     "name": "stdout",
     "output_type": "stream",
     "text": [
      "      Name  Age\n",
      "0    Alice   25\n",
      "1      Bob   30\n",
      "2  Charlie   35\n",
      "      Name  Age\n",
      "2  Charlie   35\n",
      "0      Alice\n",
      "1        Bob\n",
      "2    Charlie\n",
      "Name: Name, dtype: object\n"
     ]
    }
   ],
   "source": [
    "#Basic Operations\n",
    "\n",
    "#Sorting\n",
    "df1_sorted = df1.sort_values(by = 'Age')\n",
    "print(df1_sorted)\n",
    "\n",
    "#Filtering\n",
    "df1_filtered = df1[df1['Age'] > 30]\n",
    "print(df1_filtered)\n",
    "\n",
    "#Selecting Columns\n",
    "names = df1['Name']\n",
    "print(names)"
   ]
  },
  {
   "cell_type": "code",
   "execution_count": 22,
   "id": "fdc24682",
   "metadata": {},
   "outputs": [
    {
     "name": "stdout",
     "output_type": "stream",
     "text": [
      "      Name  Age  Gender\n",
      "0    Alice   25  Female\n",
      "1      Bob   30    Male\n",
      "2  Charlie   35    Male\n",
      "      Name  Age\n",
      "0    Alice   25\n",
      "1      Bob   30\n",
      "2  Charlie   35\n",
      "      Name  Age\n",
      "0    Alice   26\n",
      "1      Bob   31\n",
      "2  Charlie   36\n"
     ]
    }
   ],
   "source": [
    "#Data Manipulation\n",
    "\n",
    "#Adding a Column\n",
    "df1['Gender'] = ['Female', 'Male', 'Male']\n",
    "print(df1)\n",
    "\n",
    "#Deleting a Column\n",
    "del df1['Gender']\n",
    "print(df1)\n",
    "\n",
    "#Updating a Column\n",
    "df1['Age'] = df1['Age'] + 1\n",
    "print(df1)"
   ]
  },
  {
   "cell_type": "code",
   "execution_count": 23,
   "id": "05e35024",
   "metadata": {},
   "outputs": [
    {
     "name": "stdout",
     "output_type": "stream",
     "text": [
      "Name    False\n",
      "Age     False\n",
      "dtype: bool\n"
     ]
    }
   ],
   "source": [
    "#Handling Missing Data\n",
    "\n",
    "#Drop Missing Values\n",
    "df1_cleaned = df1.dropna()\n",
    "\n",
    "#Fill Missing Values\n",
    "df1_filled = df1.fillna(0)\n",
    "\n",
    "#Check for Missing Values\n",
    "print(df1.isnull().any())"
   ]
  },
  {
   "cell_type": "code",
   "execution_count": 28,
   "id": "3db969ba",
   "metadata": {},
   "outputs": [
    {
     "name": "stdout",
     "output_type": "stream",
     "text": [
      "    A   B\n",
      "0  A0  B0\n",
      "1  A1  B1\n",
      "2  A2  B2\n",
      "0  A3  B3\n",
      "1  A4  B4\n",
      "2  A5  B5\n",
      "    A   B   A   B\n",
      "0  A0  B0  A3  B3\n",
      "1  A1  B1  A4  B4\n",
      "2  A2  B2  A5  B5\n"
     ]
    }
   ],
   "source": [
    "#Concatenating DataFrames\n",
    "\n",
    "#Create Simple DataFrames\n",
    "df1 = pd.DataFrame({'A': ['A0', 'A1', 'A2'], 'B': ['B0', 'B1', 'B2']})\n",
    "df2 = pd.DataFrame({'A': ['A3', 'A4', 'A5'], 'B': ['B3', 'B4', 'B5']})\n",
    "\n",
    "#Concatenate Along Rows\n",
    "result_row = pd.concat([df1, df2])\n",
    "print(result_row)\n",
    "\n",
    "#Concatenate Along Columns\n",
    "result_col = pd.concat([df1, df2], axis = 1)\n",
    "print(result_col)"
   ]
  },
  {
   "cell_type": "code",
   "execution_count": 35,
   "id": "cae8225f",
   "metadata": {},
   "outputs": [
    {
     "name": "stdout",
     "output_type": "stream",
     "text": [
      "Empty DataFrame\n",
      "Columns: [Key, Value_x, Value_y]\n",
      "Index: []\n",
      "  Key Value_x Value_y\n",
      "0  K0      V0     NaN\n",
      "1  K1      V1     NaN\n",
      "2  K2      V2     NaN\n",
      "  Key Value_x Value_y\n",
      "0  K3     NaN      V3\n",
      "1  K4     NaN      V4\n",
      "2  K5     NaN      V5\n",
      "  Key Value_x Value_y\n",
      "0  K0      V0     NaN\n",
      "1  K1      V1     NaN\n",
      "2  K2      V2     NaN\n",
      "3  K3     NaN      V3\n",
      "4  K4     NaN      V4\n",
      "5  K5     NaN      V5\n"
     ]
    }
   ],
   "source": [
    "#Merging DataFrames\n",
    "\n",
    "#Create Simple DataFrames\n",
    "left = pd.DataFrame({'Key' : ['K0', 'K1', 'K2'], 'Value' : ['V0', 'V1', 'V2']})\n",
    "right = pd.DataFrame({'Key' : ['K3', 'K4', 'K5'], 'Value' : ['V3', 'V4', 'V5']})\n",
    "\n",
    "#Inner Join\n",
    "inner_join = pd.merge(left, right, on = 'Key', how = 'inner')\n",
    "print(inner_join)\n",
    "\n",
    "#Left Join\n",
    "left_join = pd.merge(left, right, on = 'Key', how = 'left')\n",
    "print(left_join)\n",
    "\n",
    "#Right Join\n",
    "right_join = pd.merge(left, right, on = 'Key', how = 'right')\n",
    "print(right_join)\n",
    "\n",
    "#Outer Join\n",
    "outer_join = pd.merge(left, right, on = 'Key', how = 'outer')\n",
    "print(outer_join)"
   ]
  },
  {
   "cell_type": "code",
   "execution_count": 42,
   "id": "8334d385",
   "metadata": {},
   "outputs": [
    {
     "name": "stdout",
     "output_type": "stream",
     "text": [
      "Empty DataFrame\n",
      "Columns: [Value1, Value2]\n",
      "Index: []\n"
     ]
    }
   ],
   "source": [
    "#Joining DataFrames\n",
    "\n",
    "##Create Simple DataFrames\n",
    "left = pd.DataFrame({'Value1' : [1, 2, 3]}, index = ['A', 'B', 'C'])\n",
    "right = pd.DataFrame({'Value2' : [4, 5, 6]}, index = ['D', 'E', 'F'])\n",
    "\n",
    "#Join Based on Index\n",
    "join_df = left.join(right, how = 'inner')\n",
    "print(join_df)"
   ]
  }
 ],
 "metadata": {
  "kernelspec": {
   "display_name": "Python 3 (ipykernel)",
   "language": "python",
   "name": "python3"
  },
  "language_info": {
   "codemirror_mode": {
    "name": "ipython",
    "version": 3
   },
   "file_extension": ".py",
   "mimetype": "text/x-python",
   "name": "python",
   "nbconvert_exporter": "python",
   "pygments_lexer": "ipython3",
   "version": "3.11.7"
  }
 },
 "nbformat": 4,
 "nbformat_minor": 5
}
