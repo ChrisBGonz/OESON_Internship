{
 "cells": [
  {
   "cell_type": "markdown",
   "id": "ff1b9c4a",
   "metadata": {},
   "source": [
    "# About DataSet \n",
    "\n",
    "## Link: https://www.kaggle.com/datasets/khoongweihao/aaplcsv?resource=download\n",
    "\n",
    "The first step is to get the data and load it to memory. We will get our stock data from the Yahoo Finance website. Yahoo Finance is a rich resource of financial market data and tools to find compelling investments. To get the data from Yahoo Finance, we will be using yfinance library which offers a threaded and Pythonic way to download market data from Yahoo. Check this article to learn more about yfinance: Reliably download historical market data from with Python\n",
    "\n",
    "- Objective: Predict stock prices using historical data.\n",
    "\n",
    "- Techniques: Recurrent Neural Networks (RNN), Long Short-Term Memory (LSTM), Time Series Analysis\n",
    "\n",
    "- Skills: Deep learning, time series forecasting, model evaluation (MSE, RMSE)"
   ]
  },
  {
   "attachments": {
    "image.png": {
     "image/png": "[encoded data removed]"
    }
   },
   "cell_type": "markdown",
   "id": "f86742f3",
   "metadata": {},
   "source": [
    "## Techniques\n",
    "\n",
    "#### What Is a Recurrent Neural Network (RNN)?\n",
    "- Imagine you’re reading a book, and each sentence depends on the previous one. For example, if the previous sentence mentioned a character named “Alice,” the next sentence might continue with Alice’s actions. RNNs work similarly—they’re specialized neural networks designed for sequences of data, where each data point depends on the previous ones.\n",
    "\n",
    "- Here’s how they work:\n",
    "\n",
    "##### Memory and Feedback Loop:\n",
    "- RNNs have a concept of “memory.” This memory allows them to store information about past inputs.\n",
    "- Think of it as a feedback loop: the output from one step becomes part of the input for the next step.\n",
    "- This feedback loop allows RNNs to capture dependencies between data points in a sequence.\n",
    "\n",
    "##### Unfolding in Time:\n",
    "- Imagine an RNN as a loop that unfolds over time. Each step corresponds to a specific moment in the sequence.\n",
    "- The first diagram shows a compressed representation of an RNN, while the second diagram unrolls it into three time steps.\n",
    "- By unrolling, we create a chain of interconnected neural network layers—one for each time step.\n",
    "\n",
    "##### Math Behind RNNs:\n",
    "- RNNs use a set of weights to update their internal state at each time step.\n",
    "- The formula for updating the hidden state (memory) at time step (t) is:\n",
    "\n",
    "![image.png](attachment:image.png)\n",
    "\n",
    "- (h_t) represents the hidden state at time (t).\n",
    "- (W_{hh}) and (W_{xh}) are weight matrices.\n",
    "- (\\sigma) is an activation function (like the sigmoid or tanh function).\n",
    "- (x_t) is the input at time (t).\n",
    "\n",
    "\n",
    "##### Applications:\n",
    "- Natural Language Processing (NLP): RNNs excel at tasks like language modeling, machine translation, and sentiment analysis.\n",
    "- Time Series Prediction: They’re great for predicting stock prices, weather patterns, and other time-dependent data.\n",
    "- Speech Recognition: RNNs power voice assistants like Siri and Google’s voice search.\n",
    "- Music Generation: RNNs can compose music based on existing melodies.\n",
    "- Video Analysis: They can track objects in video frames over time.\n",
    "\n",
    "Remember, RNNs are like the storytellers of the neural network world—they remember past events and use that knowledge to predict what happens next! 📚🤖"
   ]
  },
  {
   "cell_type": "markdown",
   "id": "1bec89cc",
   "metadata": {},
   "source": [
    "#### What Is LSTM?\n",
    "Imagine you’re reading a book, and each chapter builds upon the previous one. LSTMs work similarly—they’re specialized neural networks designed to handle sequences of data with long-term dependencies. Here’s how they do it:\n",
    "\n",
    "##### Memory Cells:\n",
    "- LSTMs introduce a memory cell, which acts like a container that can hold information for an extended period.\n",
    "- Unlike traditional RNNs, which struggle with long-term dependencies, LSTMs can selectively retain relevant information over time.\n",
    "\n",
    "##### Three Magical Gates:\n",
    "- LSTMs have three gates: the input gate, the forget gate, and the output gate.\n",
    "- These gates control what information enters, exits, and stays in the memory cell.\n",
    "\n",
    "##### Math Behind LSTMs:\n",
    "The hidden state (h_t) (like short-term memory) at time step (t) is updated based on:\n",
    "\n",
    "ht​=σ(Whh​ht−1​+Wxh​xt​)\n",
    "\n",
    "- (W_{hh}) and (W_{xh}) are weight matrices.\n",
    "- (\\sigma) is an activation function (like sigmoid or tanh).\n",
    "- (x_t) is the input at time (t).\n",
    "\n",
    "##### Bidirectional LSTMs:\n",
    "- Imagine having a memory that looks both forward and backward in time.\n",
    "- Bidirectional LSTMs (Bi LSTMs) process data in both directions, capturing longer-range dependencies.\n",
    "- They’re like having two LSTMs—one reads forward, the other backward—and their outputs combine for the final result.\n",
    "\n",
    "###### Real-World Applications:\n",
    "1. Language Translation:\n",
    "- LSTMs excel at translating text from one language to another.\n",
    "- They remember context across sentences, ensuring accurate translations.\n",
    "\n",
    "2. Speech Recognition:\n",
    "- When you talk to Siri or Google Assistant, LSTMs help convert your speech into text.\n",
    "- They handle the nuances of spoken language.\n",
    "\n",
    "3. Time Series Forecasting:\n",
    "- Predicting stock prices, weather patterns, or sales data—all thanks to LSTMs.\n",
    "- They capture trends and patterns over time.\n",
    "\n",
    "4. Text Summarization:\n",
    "- LSTMs summarize lengthy articles or documents.\n",
    "- They pick out essential information while ignoring fluff.\n",
    "\n",
    "Remember, LSTMs are like the memory maestros of neural networks—they remember what matters and forget the noise! 🧠🤖"
   ]
  },
  {
   "cell_type": "markdown",
   "id": "97554f2c",
   "metadata": {},
   "source": [
    "#### What Is Time Series Analysis?\n",
    "Imagine you’re tracking something over time—like daily stock prices, monthly energy consumption, or yearly website traffic. Time series analysis (TSA) is like putting on special glasses that help you see patterns and trends within these sequential data points.\n",
    "\n",
    "##### Here’s how it works:\n",
    "1. Sequential Data:\n",
    "- TSA focuses on data collected at regular intervals (e.g., daily, weekly, yearly).\n",
    "- Unlike traditional data analysis, where observations are independent, TSA considers the temporal aspect.\n",
    "\n",
    "##### Why It Matters:\n",
    "- TSA uncovers hidden gems: trends, seasonality, and fluctuations.\n",
    "- It’s like predicting tomorrow’s weather based on historical patterns.\n",
    "\n",
    "##### Real-World Applications:\n",
    "1. Stock Price Prediction:\n",
    "- Using historical stock prices, TSA helps forecast future values.\n",
    "- Investors make informed decisions based on these predictions.\n",
    "\n",
    "2. Energy Consumption Forecasting:\n",
    "- Utility companies use TSA to predict energy demand.\n",
    "- It ensures efficient resource allocation.\n",
    "\n",
    "3. Website Traffic Prediction:\n",
    "- E-commerce sites analyze past traffic patterns.\n",
    "- TSA helps optimize server capacity and user experience.\n",
    "\n",
    "4. Sales Demand Forecasting:\n",
    "- Retailers use TSA to estimate future product demand.\n",
    "- It guides inventory management.\n",
    "\n",
    "5. Temperature Forecasting:\n",
    "- Meteorologists rely on TSA for weather predictions.\n",
    "- Historical temperature data informs their models.\n",
    "\n",
    "6. Financial Market Analysis:\n",
    "- Traders analyze time series data to make buy/sell decisions.\n",
    "- Trends and cycles matter!\n",
    "\n",
    "##### Techniques and Models:\n",
    "\n",
    "1. ARIMA Models:\n",
    "- A classic choice for time series forecasting.\n",
    "- Combines autoregression, differencing, and moving averages.\n",
    "\n",
    "2. Holt-Winters Method:\n",
    "- Handles seasonality and trends.\n",
    "- Great for short-term predictions.\n",
    "\n",
    "3. LSTM Networks:\n",
    "- Like memory wizards for sequences.\n",
    "- Used in speech recognition, stock prediction, and more.\n",
    "\n",
    "##### Metrics:\n",
    "- ACF (Auto-Correlation Function): Measures how data points relate to their past values.\n",
    "- PACF (Partial Auto-Correlation Function): Focuses on direct relationships.\n",
    "\n",
    "Remember, TSA is your time-traveling companion—it reveals insights from the past to guide your future decisions! 📊⏰"
   ]
  },
  {
   "cell_type": "code",
   "execution_count": 65,
   "id": "973c9d69",
   "metadata": {},
   "outputs": [],
   "source": [
    "#Import Libraries\n",
    "import pandas as pd\n",
    "import numpy as np\n",
    "import matplotlib.pyplot as plt\n",
    "from sklearn.preprocessing import MinMaxScaler\n",
    "from keras.models import Sequential\n",
    "from keras.layers import Dense, LSTM, Dropout\n",
    "from keras.callbacks import EarlyStopping\n",
    "from keras.optimizers import Adam"
   ]
  },
  {
   "cell_type": "code",
   "execution_count": 71,
   "id": "38134671",
   "metadata": {},
   "outputs": [
    {
     "data": {
      "text/html": [
       "<div>\n",
       "<style scoped>\n",
       "    .dataframe tbody tr th:only-of-type {\n",
       "        vertical-align: middle;\n",
       "    }\n",
       "\n",
       "    .dataframe tbody tr th {\n",
       "        vertical-align: top;\n",
       "    }\n",
       "\n",
       "    .dataframe thead th {\n",
       "        text-align: right;\n",
       "    }\n",
       "</style>\n",
       "<table border=\"1\" class=\"dataframe\">\n",
       "  <thead>\n",
       "    <tr style=\"text-align: right;\">\n",
       "      <th></th>\n",
       "      <th>Open</th>\n",
       "      <th>High</th>\n",
       "      <th>Low</th>\n",
       "      <th>Close</th>\n",
       "      <th>Adj Close</th>\n",
       "      <th>Volume</th>\n",
       "    </tr>\n",
       "    <tr>\n",
       "      <th>Date</th>\n",
       "      <th></th>\n",
       "      <th></th>\n",
       "      <th></th>\n",
       "      <th></th>\n",
       "      <th></th>\n",
       "      <th></th>\n",
       "    </tr>\n",
       "  </thead>\n",
       "  <tbody>\n",
       "    <tr>\n",
       "      <th>2014-09-29</th>\n",
       "      <td>100.589996</td>\n",
       "      <td>100.690002</td>\n",
       "      <td>98.040001</td>\n",
       "      <td>99.620003</td>\n",
       "      <td>93.514290</td>\n",
       "      <td>142718700</td>\n",
       "    </tr>\n",
       "    <tr>\n",
       "      <th>2014-10-06</th>\n",
       "      <td>99.949997</td>\n",
       "      <td>102.379997</td>\n",
       "      <td>98.309998</td>\n",
       "      <td>100.730003</td>\n",
       "      <td>94.556244</td>\n",
       "      <td>280258200</td>\n",
       "    </tr>\n",
       "    <tr>\n",
       "      <th>2014-10-13</th>\n",
       "      <td>101.330002</td>\n",
       "      <td>101.779999</td>\n",
       "      <td>95.180000</td>\n",
       "      <td>97.669998</td>\n",
       "      <td>91.683792</td>\n",
       "      <td>358539800</td>\n",
       "    </tr>\n",
       "    <tr>\n",
       "      <th>2014-10-20</th>\n",
       "      <td>98.320000</td>\n",
       "      <td>105.489998</td>\n",
       "      <td>98.220001</td>\n",
       "      <td>105.220001</td>\n",
       "      <td>98.771042</td>\n",
       "      <td>358532900</td>\n",
       "    </tr>\n",
       "    <tr>\n",
       "      <th>2014-10-27</th>\n",
       "      <td>104.849998</td>\n",
       "      <td>108.040001</td>\n",
       "      <td>104.699997</td>\n",
       "      <td>108.000000</td>\n",
       "      <td>101.380676</td>\n",
       "      <td>220230600</td>\n",
       "    </tr>\n",
       "    <tr>\n",
       "      <th>2014-11-03</th>\n",
       "      <td>108.220001</td>\n",
       "      <td>110.300003</td>\n",
       "      <td>107.720001</td>\n",
       "      <td>109.010002</td>\n",
       "      <td>102.328766</td>\n",
       "      <td>199952900</td>\n",
       "    </tr>\n",
       "    <tr>\n",
       "      <th>2014-11-10</th>\n",
       "      <td>109.019997</td>\n",
       "      <td>114.190002</td>\n",
       "      <td>108.400002</td>\n",
       "      <td>114.180000</td>\n",
       "      <td>107.646675</td>\n",
       "      <td>205166700</td>\n",
       "    </tr>\n",
       "    <tr>\n",
       "      <th>2014-11-17</th>\n",
       "      <td>114.269997</td>\n",
       "      <td>117.570000</td>\n",
       "      <td>113.300003</td>\n",
       "      <td>116.470001</td>\n",
       "      <td>109.805626</td>\n",
       "      <td>233414700</td>\n",
       "    </tr>\n",
       "    <tr>\n",
       "      <th>2014-11-24</th>\n",
       "      <td>116.849998</td>\n",
       "      <td>119.750000</td>\n",
       "      <td>116.620003</td>\n",
       "      <td>118.930000</td>\n",
       "      <td>112.124863</td>\n",
       "      <td>181873900</td>\n",
       "    </tr>\n",
       "    <tr>\n",
       "      <th>2014-12-01</th>\n",
       "      <td>118.809998</td>\n",
       "      <td>119.250000</td>\n",
       "      <td>111.269997</td>\n",
       "      <td>115.000000</td>\n",
       "      <td>108.419746</td>\n",
       "      <td>266589700</td>\n",
       "    </tr>\n",
       "  </tbody>\n",
       "</table>\n",
       "</div>"
      ],
      "text/plain": [
       "                  Open        High         Low       Close   Adj Close  \\\n",
       "Date                                                                     \n",
       "2014-09-29  100.589996  100.690002   98.040001   99.620003   93.514290   \n",
       "2014-10-06   99.949997  102.379997   98.309998  100.730003   94.556244   \n",
       "2014-10-13  101.330002  101.779999   95.180000   97.669998   91.683792   \n",
       "2014-10-20   98.320000  105.489998   98.220001  105.220001   98.771042   \n",
       "2014-10-27  104.849998  108.040001  104.699997  108.000000  101.380676   \n",
       "2014-11-03  108.220001  110.300003  107.720001  109.010002  102.328766   \n",
       "2014-11-10  109.019997  114.190002  108.400002  114.180000  107.646675   \n",
       "2014-11-17  114.269997  117.570000  113.300003  116.470001  109.805626   \n",
       "2014-11-24  116.849998  119.750000  116.620003  118.930000  112.124863   \n",
       "2014-12-01  118.809998  119.250000  111.269997  115.000000  108.419746   \n",
       "\n",
       "               Volume  \n",
       "Date                   \n",
       "2014-09-29  142718700  \n",
       "2014-10-06  280258200  \n",
       "2014-10-13  358539800  \n",
       "2014-10-20  358532900  \n",
       "2014-10-27  220230600  \n",
       "2014-11-03  199952900  \n",
       "2014-11-10  205166700  \n",
       "2014-11-17  233414700  \n",
       "2014-11-24  181873900  \n",
       "2014-12-01  266589700  "
      ]
     },
     "execution_count": 71,
     "metadata": {},
     "output_type": "execute_result"
    }
   ],
   "source": [
    "# Load dataset\n",
    "data = pd.read_csv(\"AAPL.csv\")\n",
    "data['Date'] = pd.to_datetime(data['Date'])\n",
    "data.set_index('Date', inplace = True)\n",
    "data.head(10)"
   ]
  },
  {
   "cell_type": "markdown",
   "id": "c4ef6bf0",
   "metadata": {},
   "source": [
    "- Set the 'Date' column as the index.\n",
    "- Normalize the 'Close' prices using MinMaxScaler to scale the data between 0 and 1."
   ]
  },
  {
   "cell_type": "code",
   "execution_count": 73,
   "id": "70c92d3a",
   "metadata": {},
   "outputs": [
    {
     "data": {
      "text/plain": [
       "(184, 6)"
      ]
     },
     "execution_count": 73,
     "metadata": {},
     "output_type": "execute_result"
    }
   ],
   "source": [
    "data.shape"
   ]
  },
  {
   "cell_type": "code",
   "execution_count": 75,
   "id": "b06cd4a3",
   "metadata": {},
   "outputs": [
    {
     "name": "stdout",
     "output_type": "stream",
     "text": [
      "<class 'pandas.core.frame.DataFrame'>\n",
      "DatetimeIndex: 184 entries, 2014-09-29 to 2018-03-29\n",
      "Data columns (total 6 columns):\n",
      " #   Column     Non-Null Count  Dtype  \n",
      "---  ------     --------------  -----  \n",
      " 0   Open       184 non-null    float64\n",
      " 1   High       184 non-null    float64\n",
      " 2   Low        184 non-null    float64\n",
      " 3   Close      184 non-null    float64\n",
      " 4   Adj Close  184 non-null    float64\n",
      " 5   Volume     184 non-null    int64  \n",
      "dtypes: float64(5), int64(1)\n",
      "memory usage: 10.1 KB\n"
     ]
    }
   ],
   "source": [
    "#General info\n",
    "data.info()"
   ]
  },
  {
   "cell_type": "code",
   "execution_count": 77,
   "id": "48bd0dc3",
   "metadata": {},
   "outputs": [],
   "source": [
    "#Data preprocessing\n",
    "\n",
    "#Select features\n",
    "features = data[['Open', 'High', 'Low', 'Close', 'Volume']]\n",
    "\n",
    "#Scale data\n",
    "scaler = MinMaxScaler(feature_range = (0, 1))\n",
    "scaled_data = scaler.fit_transform(features)"
   ]
  },
  {
   "cell_type": "markdown",
   "id": "e596ba1c",
   "metadata": {},
   "source": [
    "- MinMaxScaler: This scaler transforms the data such that all values are within the range [0, 1]. This helps the LSTM model to learn more effectively."
   ]
  },
  {
   "cell_type": "code",
   "execution_count": 80,
   "id": "9cfa407a",
   "metadata": {},
   "outputs": [],
   "source": [
    "#Prepare training data\n",
    "\n",
    "#Create sequences\n",
    "def create_sequences(data, seq_length):\n",
    "    xs, ys = [], []\n",
    "    \n",
    "    for i in range(len(data) - seq_length):\n",
    "        x = data[i:i+seq_length]\n",
    "        y = data[i+seq_length][3]  # Predicting 'Close' price\n",
    "        xs.append(x)\n",
    "        ys.append(y)\n",
    "    return np.array(xs), np.array(ys)\n",
    "\n",
    "seq_length = 60\n",
    "x, y = create_sequences(scaled_data, seq_length)"
   ]
  },
  {
   "cell_type": "markdown",
   "id": "c1ddf0cf",
   "metadata": {},
   "source": [
    "- data: The input data, which is a 2D array where rows represent time steps and columns represent different features (e.g., Open, High, Low, Close, Volume).\n",
    "- seq_length: The number of time steps in each input sequence. Here, it's set to 60.\n",
    "- xs: This list will store the input sequences.\n",
    "- ys: This list will store the corresponding target values (the values we want to predict).\n",
    "- The loop runs from 0 to len(data) - seq_length, ensuring that each sequence has seq_length number of data points.\n",
    "- x: This is a slice of the data from index i to i + seq_length. It represents one sequence of seq_length time steps.\n",
    "- y: This is the 'Close' price at the index i + seq_length. Here, [3] is used to select the 'Close' price from the feature columns (assuming 'Close' is the fourth column in the data).\n",
    "- seq_length = 60: We define the sequence length as 60 time steps (days).\n",
    "- x, y = create_sequences(scaled_data, seq_length): We call the function with our scaled data and the sequence length. X will contain all the input sequences, and y will contain the corresponding 'Close' prices to predict."
   ]
  },
  {
   "cell_type": "code",
   "execution_count": 82,
   "id": "2417322d",
   "metadata": {},
   "outputs": [],
   "source": [
    "#Split data into training and test sets\n",
    "split = int(0.8 * len(x))\n",
    "x_train, x_test = x[:split], x[split:]\n",
    "y_train, y_test = y[:split], y[split:]"
   ]
  },
  {
   "cell_type": "markdown",
   "id": "2fcb37bd",
   "metadata": {},
   "source": [
    "- len(x): This gives the total number of sequences in the dataset.\n",
    "- 0.8 * len(x): Multiplies the total number of sequences by 0.8 to get 80% of the data. This value is used to split the data into training (80%) and testing (20%) sets.\n",
    "- int(...): Converts the calculated value to an integer (since indices must be whole numbers). This integer represents the index at which the data will be split."
   ]
  },
  {
   "cell_type": "markdown",
   "id": "5bce8bde",
   "metadata": {},
   "source": [
    "## Step 2: Building the Model\n",
    "\n",
    "Define the LSTM Model:"
   ]
  },
  {
   "cell_type": "code",
   "execution_count": 85,
   "id": "a20cb903",
   "metadata": {},
   "outputs": [
    {
     "name": "stderr",
     "output_type": "stream",
     "text": [
      "/opt/anaconda3/lib/python3.11/site-packages/keras/src/layers/rnn/rnn.py:204: UserWarning: Do not pass an `input_shape`/`input_dim` argument to a layer. When using Sequential models, prefer using an `Input(shape)` object as the first layer in the model instead.\n",
      "  super().__init__(**kwargs)\n"
     ]
    }
   ],
   "source": [
    "from tensorflow.keras.models import Sequential\n",
    "from tensorflow.keras.layers import LSTM, Dense, Dropout\n",
    "\n",
    "model = Sequential()\n",
    "model.add(LSTM(units = 50, return_sequences = True, input_shape = (x_train.shape[1], x_train.shape[2])))\n",
    "model.add(Dropout(0.2))\n",
    "model.add(LSTM(units = 50, return_sequences = False))\n",
    "model.add(Dropout(0.2))\n",
    "model.add(Dense(units = 1))\n",
    "\n",
    "model.compile(optimizer = 'adam', loss = 'mean_squared_error')"
   ]
  },
  {
   "cell_type": "markdown",
   "id": "d1a59205",
   "metadata": {},
   "source": [
    "- LSTM Layers: Capture the temporal dependencies in the sequential data.\n",
    "- Dropout Layers: Prevent overfitting by randomly dropping units during training.\n",
    "- Dense Layer: Outputs the final prediction.\n",
    "- Adam Optimizer: Efficiently adjusts the learning rate during training.\n",
    "- MSE Loss: Measures the accuracy of the predictions for regression tasks."
   ]
  },
  {
   "cell_type": "markdown",
   "id": "c45f3701",
   "metadata": {},
   "source": [
    "## Step 3: Training the Model"
   ]
  },
  {
   "cell_type": "code",
   "execution_count": 89,
   "id": "ba0e646c",
   "metadata": {},
   "outputs": [
    {
     "name": "stdout",
     "output_type": "stream",
     "text": [
      "Epoch 1/20\n",
      "\u001b[1m3/3\u001b[0m \u001b[32m━━━━━━━━━━━━━━━━━━━━\u001b[0m\u001b[37m\u001b[0m \u001b[1m3s\u001b[0m 200ms/step - loss: 0.1442 - val_loss: 0.1354\n",
      "Epoch 2/20\n",
      "\u001b[1m3/3\u001b[0m \u001b[32m━━━━━━━━━━━━━━━━━━━━\u001b[0m\u001b[37m\u001b[0m \u001b[1m0s\u001b[0m 52ms/step - loss: 0.0329 - val_loss: 0.0029\n",
      "Epoch 3/20\n",
      "\u001b[1m3/3\u001b[0m \u001b[32m━━━━━━━━━━━━━━━━━━━━\u001b[0m\u001b[37m\u001b[0m \u001b[1m0s\u001b[0m 101ms/step - loss: 0.0326 - val_loss: 0.0060\n",
      "Epoch 4/20\n",
      "\u001b[1m3/3\u001b[0m \u001b[32m━━━━━━━━━━━━━━━━━━━━\u001b[0m\u001b[37m\u001b[0m \u001b[1m0s\u001b[0m 46ms/step - loss: 0.0266 - val_loss: 0.0073\n",
      "Epoch 5/20\n",
      "\u001b[1m3/3\u001b[0m \u001b[32m━━━━━━━━━━━━━━━━━━━━\u001b[0m\u001b[37m\u001b[0m \u001b[1m0s\u001b[0m 48ms/step - loss: 0.0155 - val_loss: 0.0246\n",
      "Epoch 6/20\n",
      "\u001b[1m3/3\u001b[0m \u001b[32m━━━━━━━━━━━━━━━━━━━━\u001b[0m\u001b[37m\u001b[0m \u001b[1m0s\u001b[0m 46ms/step - loss: 0.0141 - val_loss: 0.0206\n",
      "Epoch 7/20\n",
      "\u001b[1m3/3\u001b[0m \u001b[32m━━━━━━━━━━━━━━━━━━━━\u001b[0m\u001b[37m\u001b[0m \u001b[1m0s\u001b[0m 46ms/step - loss: 0.0136 - val_loss: 0.0054\n",
      "Epoch 8/20\n",
      "\u001b[1m3/3\u001b[0m \u001b[32m━━━━━━━━━━━━━━━━━━━━\u001b[0m\u001b[37m\u001b[0m \u001b[1m0s\u001b[0m 46ms/step - loss: 0.0131 - val_loss: 0.0065\n",
      "Epoch 9/20\n",
      "\u001b[1m3/3\u001b[0m \u001b[32m━━━━━━━━━━━━━━━━━━━━\u001b[0m\u001b[37m\u001b[0m \u001b[1m0s\u001b[0m 46ms/step - loss: 0.0112 - val_loss: 0.0128\n",
      "Epoch 10/20\n",
      "\u001b[1m3/3\u001b[0m \u001b[32m━━━━━━━━━━━━━━━━━━━━\u001b[0m\u001b[37m\u001b[0m \u001b[1m0s\u001b[0m 46ms/step - loss: 0.0104 - val_loss: 0.0069\n",
      "Epoch 11/20\n",
      "\u001b[1m3/3\u001b[0m \u001b[32m━━━━━━━━━━━━━━━━━━━━\u001b[0m\u001b[37m\u001b[0m \u001b[1m0s\u001b[0m 47ms/step - loss: 0.0111 - val_loss: 0.0033\n",
      "Epoch 12/20\n",
      "\u001b[1m3/3\u001b[0m \u001b[32m━━━━━━━━━━━━━━━━━━━━\u001b[0m\u001b[37m\u001b[0m \u001b[1m0s\u001b[0m 46ms/step - loss: 0.0089 - val_loss: 0.0040\n",
      "Epoch 13/20\n",
      "\u001b[1m3/3\u001b[0m \u001b[32m━━━━━━━━━━━━━━━━━━━━\u001b[0m\u001b[37m\u001b[0m \u001b[1m0s\u001b[0m 46ms/step - loss: 0.0098 - val_loss: 0.0049\n",
      "Epoch 14/20\n",
      "\u001b[1m3/3\u001b[0m \u001b[32m━━━━━━━━━━━━━━━━━━━━\u001b[0m\u001b[37m\u001b[0m \u001b[1m0s\u001b[0m 48ms/step - loss: 0.0097 - val_loss: 0.0033\n",
      "Epoch 15/20\n",
      "\u001b[1m3/3\u001b[0m \u001b[32m━━━━━━━━━━━━━━━━━━━━\u001b[0m\u001b[37m\u001b[0m \u001b[1m0s\u001b[0m 46ms/step - loss: 0.0096 - val_loss: 0.0036\n",
      "Epoch 16/20\n",
      "\u001b[1m3/3\u001b[0m \u001b[32m━━━━━━━━━━━━━━━━━━━━\u001b[0m\u001b[37m\u001b[0m \u001b[1m0s\u001b[0m 53ms/step - loss: 0.0081 - val_loss: 0.0044\n",
      "Epoch 17/20\n",
      "\u001b[1m3/3\u001b[0m \u001b[32m━━━━━━━━━━━━━━━━━━━━\u001b[0m\u001b[37m\u001b[0m \u001b[1m0s\u001b[0m 52ms/step - loss: 0.0077 - val_loss: 0.0032\n",
      "Epoch 18/20\n",
      "\u001b[1m3/3\u001b[0m \u001b[32m━━━━━━━━━━━━━━━━━━━━\u001b[0m\u001b[37m\u001b[0m \u001b[1m0s\u001b[0m 49ms/step - loss: 0.0085 - val_loss: 0.0057\n",
      "Epoch 19/20\n",
      "\u001b[1m3/3\u001b[0m \u001b[32m━━━━━━━━━━━━━━━━━━━━\u001b[0m\u001b[37m\u001b[0m \u001b[1m0s\u001b[0m 45ms/step - loss: 0.0096 - val_loss: 0.0085\n",
      "Epoch 20/20\n",
      "\u001b[1m3/3\u001b[0m \u001b[32m━━━━━━━━━━━━━━━━━━━━\u001b[0m\u001b[37m\u001b[0m \u001b[1m0s\u001b[0m 47ms/step - loss: 0.0109 - val_loss: 0.0053\n"
     ]
    }
   ],
   "source": [
    "history = model.fit(x_train, y_train, epochs = 20, batch_size = 32, validation_split = 0.1)"
   ]
  },
  {
   "cell_type": "markdown",
   "id": "99b53f2f",
   "metadata": {},
   "source": [
    "- x_train: Training data (input sequences).\n",
    "- y_train: Training labels (corresponding target values).\n",
    "- epochs = 20: Number of times the entire training dataset will be passed through the model during training.\n",
    "- batch_size = 32: Number of samples per gradient update. The model will be updated after every 32 samples.\n",
    "- validation_split = 0.1: Fraction of the training data (10%) to be used as validation data to monitor the model's performance during training.\n",
    "- history: Stores the training history, including loss and validation metrics, which can be used for further analysis and visualization."
   ]
  },
  {
   "cell_type": "markdown",
   "id": "578ff892",
   "metadata": {},
   "source": [
    "## Step 4: Evaluating the Model"
   ]
  },
  {
   "cell_type": "code",
   "execution_count": 91,
   "id": "fa61bdf6",
   "metadata": {},
   "outputs": [
    {
     "name": "stdout",
     "output_type": "stream",
     "text": [
      "\u001b[1m1/1\u001b[0m \u001b[32m━━━━━━━━━━━━━━━━━━━━\u001b[0m\u001b[37m\u001b[0m \u001b[1m0s\u001b[0m 343ms/step\n"
     ]
    }
   ],
   "source": [
    "predicted_prices = model.predict(x_test)\n",
    "predicted_prices = scaler.inverse_transform(np.concatenate((np.zeros((predicted_prices.shape[0], 4)), predicted_prices), axis = 1))[:, 4]\n",
    "\n",
    "#Inverse transform the actual prices\n",
    "actual_prices = scaler.inverse_transform(np.concatenate((np.zeros((y_test.shape[0], 4)), y_test.reshape(-1, 1)), axis = 1))[:, 4]"
   ]
  },
  {
   "cell_type": "markdown",
   "id": "308bcdf0",
   "metadata": {},
   "source": [
    "- predicted_prices: Uses the trained model to predict the stock prices for the test data (x_test).\n",
    "- np.concatenate: Concatenates the predicted prices with an array of zeros to match the original number of features (adding 4 columns of zeros).\n",
    "- scaler.inverse_transform: Applies the inverse of the scaling transformation to convert the scaled predictions back to the original scale.\n",
    "- [:, 4]: Extracts the 'Close' prices from the inverse-transformed array (5th column).\n",
    "- y_test.reshape(-1, 1): Reshapes the actual prices to a 2D array with one column.\n",
    "- np.concatenate: Concatenates the actual prices with an array of zeros to match the original number of features (adding 4 columns of zeros).\n",
    "- scaler.inverse_transform: Applies the inverse of the scaling transformation to convert the scaled actual prices back to the original scale.\n",
    "- [:, 4]: Extracts the 'Close' prices from the inverse-transformed array (5th column)."
   ]
  },
  {
   "cell_type": "code",
   "execution_count": 94,
   "id": "821e52f9",
   "metadata": {},
   "outputs": [
    {
     "name": "stdout",
     "output_type": "stream",
     "text": [
      "MSE: 2764686961302299.0\n",
      "MAE: 46134258.42749856\n",
      "RMSE: 52580290.61637354\n"
     ]
    }
   ],
   "source": [
    "#Calculate Performance Metrics\n",
    "from sklearn.metrics import mean_squared_error, mean_absolute_error\n",
    "\n",
    "mse = mean_squared_error(actual_prices, predicted_prices)\n",
    "mae = mean_absolute_error(actual_prices, predicted_prices)\n",
    "rmse = np.sqrt(mse)\n",
    "\n",
    "print(f'MSE: {mse}')\n",
    "print(f'MAE: {mae}')\n",
    "print(f'RMSE: {rmse}')"
   ]
  },
  {
   "cell_type": "markdown",
   "id": "59fdccc4",
   "metadata": {},
   "source": [
    "1. Mean Squared Error (MSE):\n",
    "- MSE: 1711259536161093.8\n",
    "- MSE measures the average of the squares of the errors, that is, the average squared difference between the actual and predicted values. A higher value indicates larger errors.\n",
    "- In this case, the MSE value is extremely large, suggesting that the model's predictions are significantly off from the actual values.\n",
    "\n",
    "2. Mean Absolute Error (MAE):\n",
    "- MAE: 34788369.99745924\n",
    "- MAE measures the average of the absolute errors, that is, the average absolute difference between the actual and predicted values. It is a direct measure of the model's prediction accuracy.\n",
    "- An MAE of around 34.8 million indicates that, on average, the predicted prices deviate from the actual prices by this amount, which is substantial.\n",
    "\n",
    "3. Root Mean Squared Error (RMSE):\n",
    "- RMSE: 41367372.845771745\n",
    "- RMSE is the square root of the MSE. It provides an error metric in the same units as the target variable (stock prices in this case), making it easier to interpret.\n",
    "- An RMSE of around 41.4 million confirms that the model's predictions have large deviations from the actual prices, similar to the MAE.\n",
    "\n",
    "**Summary**\n",
    "- High MSE and RMSE values indicate that the model's predictions are not close to the actual stock prices.\n",
    "- High MAE further confirms that the average prediction error is very large."
   ]
  },
  {
   "cell_type": "markdown",
   "id": "c7c19ea5",
   "metadata": {},
   "source": [
    "## Step 5: Visualization"
   ]
  },
  {
   "cell_type": "code",
   "execution_count": 96,
   "id": "6cae61ec",
   "metadata": {},
   "outputs": [
    {
     "data": {
      "image/png": "[encoded data removed]",
      "text/plain": [
       "<Figure size 1400x500 with 1 Axes>"
      ]
     },
     "metadata": {},
     "output_type": "display_data"
    }
   ],
   "source": [
    "import matplotlib.pyplot as plt\n",
    "\n",
    "plt.figure(figsize = (14, 5))\n",
    "plt.plot(data.index[-len(actual_prices):], actual_prices, color = 'blue', label = 'Actual Prices')\n",
    "plt.plot(data.index[-len(predicted_prices):], predicted_prices, color = 'red', label = 'Predicted Prices')\n",
    "plt.xlabel('Date')\n",
    "plt.ylabel('Price')\n",
    "plt.title('Actual vs Predicted Stock Prices')\n",
    "plt.legend()\n",
    "plt.show()"
   ]
  },
  {
   "cell_type": "markdown",
   "id": "d91c7888",
   "metadata": {},
   "source": [
    "### Inferences \n",
    "\n",
    "**Trends:**\n",
    "- The actual prices (blue line) show significant fluctuations with notable peaks and troughs.\n",
    "- The predicted prices (red line) show a smoother, more gradual trend compared to the actual prices.\n",
    "\n",
    "**Performance:**\n",
    "- The predicted prices fail to capture the sharp movements in the actual prices. This is evident in the periods where the actual prices rise or fall steeply, but the predicted prices remain relatively steady.\n",
    "- The model seems to underestimate the peaks and overestimate the troughs, indicating it is not accurately capturing the volatility of the stock prices.\n",
    "\n",
    "**Alignment:**\n",
    "- While there is some overall alignment in the general trend (both actual and predicted prices seem to - increase from 2017-10 to around 2018-01), the predicted prices do not match the actual prices closely in terms of specific values or sharp changes.\n"
   ]
  },
  {
   "cell_type": "markdown",
   "id": "2bd1c302",
   "metadata": {},
   "source": [
    "### Possible Issues and Solutions:\n",
    "\n",
    "1. Model Complexity: Your model might be too simple to capture the complex patterns and volatility in stock prices. Consider adding more layers, units, or more sophisticated architectures like a stacked LSTM or a combination of LSTM and other layers.\n",
    "2. Feature Engineering: Incorporate additional features that might help the model better understand the stock price movements, such as technical indicators (moving averages, RSI, etc.), external market factors, or other relevant financial metrics.\n",
    "3. Hyperparameter Tuning:Experiment with different hyperparameters, such as the number of epochs, batch size, learning rate, and dropout rates, to improve the model's performance.\n",
    "4. Data Preprocessing:Ensure that the data is properly preprocessed and scaled. Check if the scaling and inverse scaling are performed correctly.\n",
    "5. Training Data: Ensure that the training data is representative of various market conditions. If the training data does not include enough instances of volatility, the model may not learn to predict such movements accurately.\n"
   ]
  }
 ],
 "metadata": {
  "kernelspec": {
   "display_name": "Python 3 (ipykernel)",
   "language": "python",
   "name": "python3"
  },
  "language_info": {
   "codemirror_mode": {
    "name": "ipython",
    "version": 3
   },
   "file_extension": ".py",
   "mimetype": "text/x-python",
   "name": "python",
   "nbconvert_exporter": "python",
   "pygments_lexer": "ipython3",
   "version": "3.11.7"
  }
 },
 "nbformat": 4,
 "nbformat_minor": 5
}
