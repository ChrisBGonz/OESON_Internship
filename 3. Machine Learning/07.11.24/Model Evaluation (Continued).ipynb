{
 "cells": [
  {
   "cell_type": "code",
   "execution_count": 1,
   "id": "db2dfad4",
   "metadata": {},
   "outputs": [],
   "source": [
    "#From 07/09/24 ####################################################################################################"
   ]
  },
  {
   "cell_type": "markdown",
   "id": "d1580263",
   "metadata": {},
   "source": [
    "# Model Evaluation\n",
    "1. Data Preparation\n",
    "Data preparation is like getting all the ingredients ready before cooking. It involves cleaning the data (removing or fixing any errors or missing values), normalizing or standardizing it (so all features have similar scales), and sometimes augmenting it (adding more data through transformations). For the MVTec AD dataset, this might include resizing images, converting them to grayscale or color, and ensuring that each image is labeled correctly.\n",
    "\n",
    "2. Train - Test Split\n",
    "This step involves dividing your dataset into two parts: one for training your model (train set) and one for testing it (test set). It's like studying for an exam using a portion of the material (training) and then testing your knowledge on a different set of questions (testing). Typically, 70-80% of the data is used for training, and the rest for testing. This helps in evaluating how well your model will perform on unseen data.\n",
    "\n",
    "3. Model Training\n",
    "Model training is where the magic happens. The training data is fed into the machine learning algorithm, which learns patterns and relationships within the data. This is similar to learning from examples and improving your skills over time. For anomaly detection, the model learns what normal (non-anomalous) data looks like, so it can identify what doesn’t fit that pattern.\n",
    "\n",
    "4. Model Evaluation using Metrics\n",
    "After training, you need to evaluate how well your model performs. This involves using metrics like accuracy, precision, recall, F1-score, etc. It’s like getting a report card that tells you how well you did. Each metric provides different insights:\n",
    "\n",
    "- Accuracy: How many predictions were correct overall.\n",
    "- Precision: Out of all the predicted anomalies, how many were actual anomalies.\n",
    "- Recall: Out of all actual anomalies, how many were correctly predicted.\n",
    "- F1-score: A balance between precision and recall.\n",
    "\n",
    "5. Cross-Validation\n",
    "Cross-validation is a technique to make sure your model's performance is robust and not dependent on a particular train-test split. It involves dividing the data into multiple folds (subsets) and training/testing the model multiple times, each time with a different fold as the test set and the remaining folds as the training set. This is like taking multiple mock exams to ensure you're consistently good and not just lucky once.\n",
    "\n",
    "6. Confusion Matrix\n",
    "A confusion matrix is a table that summarizes the performance of a classification model. It shows the counts of true positive (correctly identified anomalies), true negative (correctly identified normal data), false positive (normal data incorrectly labeled as anomalies), and false negative (anomalies incorrectly labeled as normal). It’s a detailed report card that shows where the model is getting things right and where it’s making mistakes.\n",
    "\n",
    "7. Precision-Recall Curve\n",
    "The precision-recall curve is a graph that shows the trade-off between precision and recall for different threshold settings. Higher precision means fewer false positives, and higher recall means fewer false negatives. The curve helps in understanding the balance between precision and recall and finding an optimal threshold for your specific application.\n",
    "\n",
    "8. ROC Curve\n",
    "The ROC (Receiver Operating Characteristic) curve is another graph that shows the trade-off between true positive rate (recall) and false positive rate. The area under the ROC curve (AUC) provides a single measure of the model’s performance. A model with an AUC close to 1 indicates a good model, while an AUC close to 0.5 suggests a model no better than random guessing. It’s like a comprehensive score that tells you how well your model distinguishes between anomalies and normal data."
   ]
  },
  {
   "cell_type": "markdown",
   "id": "53ed170b",
   "metadata": {},
   "source": [
    "1. Data Preparation\n",
    "2. Train Test Split\n",
    "3. Model Training\n",
    "4. Model Evaluation Using Metrics\n",
    "5. Cross Validation\n",
    "6. Confusion Matrix\n",
    "7. Precision-Recall Curve"
   ]
  },
  {
   "cell_type": "markdown",
   "id": "af7aaafa",
   "metadata": {},
   "source": [
    "## 1. Data Preparation"
   ]
  },
  {
   "cell_type": "code",
   "execution_count": 10,
   "id": "7e930c4b",
   "metadata": {},
   "outputs": [],
   "source": [
    "#Import Necessary Libraries\n",
    "import pandas as pd\n",
    "import numpy as np\n",
    "import matplotlib.pyplot as plt\n",
    "import seaborn as sns\n",
    "\n",
    "from sklearn.model_selection import train_test_split, cross_val_score\n",
    "from sklearn.metrics import (accuracy_score, precision_score,f1_score, confusion_matrix, precision_recall_curve,\n",
    "                             recall_score, roc_curve, auc, roc_auc_score, mean_squared_error, mean_absolute_error, r2_score)\n",
    "\n",
    "from sklearn.datasets import load_iris, fetch_california_housing\n",
    "from sklearn.linear_model import LogisticRegression, LinearRegression"
   ]
  },
  {
   "cell_type": "markdown",
   "id": "7bec4900",
   "metadata": {},
   "source": [
    "### Classification Metrics:\n",
    "1. Accuracy\n",
    "- Definition: The ratio of correctly predicted instances to the total number of instances.\n",
    "- Use: Good for balanced datasets but can be misleading if classes are imbalanced.\n",
    "\n",
    "2. Precision\n",
    "- Definition: The ratio of true positive predictions to the total number of positive predictions (true positives + false positives).\n",
    "-Use: Important when the cost of false positives is high, such as in spam detection.\n",
    "\n",
    "3. Recall (Sensitivity)\n",
    "- Definition: The ratio of true positive predictions to the total number of actual positives (true positives + false negatives).\n",
    "- Use: Crucial when missing positive instances is costly, such as in medical diagnoses.\n",
    "\n",
    "4. F1-Score\n",
    "- Definition: The harmonic mean of precision and recall. It balances both metrics and provides a single score.\n",
    "- Use: Useful when you need a balance between precision and recall.\n",
    "\n",
    "5. Confusion Matrix\n",
    "- Definition: A table showing the counts of true positives, true negatives, false positives, and false negatives.\n",
    "- Use: Helps visualize performance and understand where the model makes errors.\n",
    "\n",
    "6. ROC Curve and AUC\n",
    "- ROC Curve: A graph plotting the true positive rate (recall) against the false positive rate at various threshold settings.\n",
    "- AUC (Area Under Curve): The area under the ROC curve, which summarizes the model’s ability to distinguish between classes. An AUC close to 1 indicates a good model.\n",
    "\n",
    "7. Precision-Recall Curve\n",
    "- PR Curve: A graph showing the trade-off between precision and recall for different threshold settings.\n",
    "- Use: Especially useful for imbalanced datasets to evaluate the model’s performance across different levels of precision and recall."
   ]
  },
  {
   "cell_type": "markdown",
   "id": "1b544b5a-4a1f-4685-aa50-3138c3b099d4",
   "metadata": {},
   "source": [
    "### Regression Metrics\n",
    "- Regression metrics are used to evaluate models that predict continuous outcomes (e.g., predicting house prices). Here are some common metrics:\n",
    "\n",
    "1. Mean Absolute Error (MAE)\n",
    "- Definition: The average absolute differences between predicted and actual values.\n",
    "- Use: Gives a straightforward measure of prediction accuracy in the same units as the target variable.\n",
    "\n",
    "2. Mean Squared Error (MSE)\n",
    "- Definition: The average of the squared differences between predicted and actual values.\n",
    "- Use: Penalizes larger errors more heavily due to squaring, making it sensitive to outliers.\n",
    "\n",
    "3. Root Mean Squared Error (RMSE)\n",
    "- Definition: The square root of the mean squared error. It brings the error measure back to the same units as the target variable.\n",
    "- Use: Useful when you need to understand the magnitude of prediction errors in the same units as the target variable.\n",
    "\n",
    "4. R-Squared (R²)\n",
    "- Definition: The proportion of variance in the target variable that is predictable from the features.\n",
    "- Use: Indicates how well the model explains the variability of the target variable. R² values range from 0 to 1, with higher values indicating better model performance.\n",
    "\n",
    "5. Adjusted R-Squared\n",
    "- Definition: A modified version of R² that adjusts for the number of predictors in the model.\n",
    "- Use: Useful for comparing models with different numbers of predictors."
   ]
  },
  {
   "cell_type": "markdown",
   "id": "4506ba80",
   "metadata": {},
   "source": [
    "## 2. Train Test Split"
   ]
  },
  {
   "cell_type": "code",
   "execution_count": 14,
   "id": "dd0b7be6",
   "metadata": {},
   "outputs": [],
   "source": [
    "#Iris Dataset\n",
    "\n",
    "#Train Test Split\n",
    "iris = load_iris()\n",
    "x_iris = iris.data\n",
    "y_iris = iris.target\n",
    "\n",
    "#Splitting Into the Training Set and Test Set\n",
    "x_train_iris, x_test_iris, y_train_iris, y_test_iris = train_test_split(x_iris, y_iris, \n",
    "                                                                        test_size = 0.2, random_state = 42)"
   ]
  },
  {
   "cell_type": "code",
   "execution_count": 17,
   "id": "a0e09c29",
   "metadata": {},
   "outputs": [],
   "source": [
    "#House Dataset\n",
    "\n",
    "#Train Test Split\n",
    "house = fetch_california_housing()\n",
    "x_house = house.data\n",
    "y_house = house.target\n",
    "\n",
    "#Splitting Into the Training Set and Test Set\n",
    "x_train_house, x_test_house, y_train_house, y_test_house = train_test_split(x_house, y_house, \n",
    "                                                                        test_size = 0.2, random_state = 42)"
   ]
  },
  {
   "cell_type": "markdown",
   "id": "981c085f",
   "metadata": {},
   "source": [
    "## 3. Model Training"
   ]
  },
  {
   "cell_type": "code",
   "execution_count": 20,
   "id": "7899bd1b",
   "metadata": {},
   "outputs": [],
   "source": [
    "#Train Logistic Regression Model\n",
    "clf = LogisticRegression(max_iter = 200)\n",
    "clf.fit(x_train_iris, y_train_iris)\n",
    "\n",
    "#Predict on Test Set\n",
    "y_pred_iris = clf.predict(x_test_iris)"
   ]
  },
  {
   "cell_type": "code",
   "execution_count": 22,
   "id": "ffee460e",
   "metadata": {},
   "outputs": [],
   "source": [
    "#Train Linear Regression Model \n",
    "reg = LinearRegression()\n",
    "reg.fit(x_train_house, y_train_house)\n",
    "\n",
    "#Predict on Test Set\n",
    "y_pred_house = reg.predict(x_test_house)"
   ]
  },
  {
   "cell_type": "code",
   "execution_count": 24,
   "id": "ea8969e8",
   "metadata": {},
   "outputs": [],
   "source": [
    "###################################################################################################################"
   ]
  },
  {
   "cell_type": "markdown",
   "id": "750c3f52",
   "metadata": {},
   "source": [
    "## 4. Model Evaluation Using Metrics"
   ]
  },
  {
   "cell_type": "code",
   "execution_count": 27,
   "id": "dcd2f275",
   "metadata": {},
   "outputs": [
    {
     "name": "stdout",
     "output_type": "stream",
     "text": [
      "Accuracy: 1.0\n",
      "Precision: 1.0\n",
      "Recall: 1.0\n",
      "F1: 1.0\n"
     ]
    }
   ],
   "source": [
    "#Classification Metrics\n",
    "accuracy = accuracy_score(y_test_iris, y_pred_iris)\n",
    "precision = precision_score(y_test_iris, y_pred_iris, average = 'weighted')\n",
    "recall = recall_score(y_test_iris, y_pred_iris, average = 'weighted')\n",
    "f1 = f1_score(y_test_iris, y_pred_iris, average = 'weighted')\n",
    "\n",
    "print(f'Accuracy: {accuracy}')\n",
    "print(f'Precision: {accuracy}')\n",
    "print(f'Recall: {accuracy}')\n",
    "print(f'F1: {accuracy}')"
   ]
  },
  {
   "cell_type": "code",
   "execution_count": 29,
   "id": "e4a7d4a0",
   "metadata": {},
   "outputs": [
    {
     "name": "stdout",
     "output_type": "stream",
     "text": [
      "MSE: 0.5558915986952422\n",
      "RMSE: 0.7455813830127749\n",
      "MAE: 0.5332001304956977\n",
      "R2: 0.5757877060324524\n"
     ]
    }
   ],
   "source": [
    "#Regression Metrics\n",
    "mse = mean_squared_error(y_test_house, y_pred_house)\n",
    "rmse = mean_squared_error(y_test_house, y_pred_house, squared = False)\n",
    "mae = mean_absolute_error(y_test_house, y_pred_house)\n",
    "r2 = r2_score(y_test_house, y_pred_house)\n",
    "\n",
    "print(f'MSE: {mse}')\n",
    "print(f'RMSE: {rmse}')\n",
    "print(f'MAE: {mae}')\n",
    "print(f'R2: {r2}')"
   ]
  },
  {
   "cell_type": "markdown",
   "id": "3f6e6bf9",
   "metadata": {},
   "source": [
    "## 5. Cross Validation"
   ]
  },
  {
   "cell_type": "code",
   "execution_count": 32,
   "id": "abc8e544",
   "metadata": {},
   "outputs": [
    {
     "name": "stdout",
     "output_type": "stream",
     "text": [
      "Cross Validation Score: [0.96666667 1.         0.93333333 0.96666667 1.        ]\n",
      "Mean CV Score: 0.9733333333333334\n"
     ]
    }
   ],
   "source": [
    "#Classification CV\n",
    "cv_score = cross_val_score(clf, x_iris, y_iris, cv = 5)\n",
    "\n",
    "print(f'Cross Validation Score: {cv_score}')\n",
    "print(f'Mean CV Score: {cv_score.mean()}')"
   ]
  },
  {
   "cell_type": "code",
   "execution_count": 34,
   "id": "34d6b764",
   "metadata": {},
   "outputs": [
    {
     "name": "stdout",
     "output_type": "stream",
     "text": [
      "Cross Validation Regression Score: [-0.48485857 -0.62249739 -0.64621047 -0.5431996  -0.49468484]\n",
      "Mean Regression CV Score: -0.5582901717686803\n"
     ]
    }
   ],
   "source": [
    "#Regression CV\n",
    "cv_scores = cross_val_score(reg, x_house, y_house, cv = 5, scoring = 'neg_mean_squared_error')\n",
    "\n",
    "print(f'Cross Validation Regression Score: {cv_scores}')\n",
    "print(f'Mean Regression CV Score: {cv_scores.mean()}')"
   ]
  },
  {
   "cell_type": "markdown",
   "id": "f754c5ae",
   "metadata": {},
   "source": [
    "## 6. Confusion Matrix\n",
    "- True Positive (TP): Correctly predicted positive instances.\n",
    "- True Negative (TN): Correctly predicted negative instances.\n",
    "- False Positive (FP): Incorrectly predicted positive instances (Type I error).\n",
    "- False Negative (FN): Incorrectly predicted negative instances (Type II error)."
   ]
  },
  {
   "cell_type": "code",
   "execution_count": 37,
   "id": "18095690",
   "metadata": {},
   "outputs": [
    {
     "data": {
      "image/png": "[encoded data removed]",
      "text/plain": [
       "<Figure size 640x480 with 2 Axes>"
      ]
     },
     "metadata": {},
     "output_type": "display_data"
    }
   ],
   "source": [
    "#Classification\n",
    "cm = confusion_matrix(y_test_iris, y_pred_iris)\n",
    "sns.heatmap(cm, annot = True, fmt = 'd', cmap = 'Blues')\n",
    "plt.xlabel('Predicted')\n",
    "plt.ylabel('Actual')\n",
    "plt.title('Confusion Matrix')\n",
    "plt.show()"
   ]
  },
  {
   "cell_type": "markdown",
   "id": "ae583129",
   "metadata": {},
   "source": [
    "## 7. Precision Recall Curve"
   ]
  },
  {
   "cell_type": "code",
   "execution_count": 40,
   "id": "0075a799",
   "metadata": {},
   "outputs": [
    {
     "data": {
      "image/png": "[encoded data removed]",
      "text/plain": [
       "<Figure size 640x480 with 1 Axes>"
      ]
     },
     "metadata": {},
     "output_type": "display_data"
    }
   ],
   "source": [
    "#Predict the Probabilities for Positive Class\n",
    "y_scores = clf.predict_proba(x_test_iris)[:, 1]\n",
    "\n",
    "#P-R Pair for Different Threshold\n",
    "pre, recall, thresholds = precision_recall_curve(y_test_iris, y_scores, pos_label = 1)\n",
    "\n",
    "plt.plot(thresholds, pre[:-1], 'b--', label = 'Precision')\n",
    "plt.plot(thresholds, recall[:-1], 'g-', label = 'Recall')\n",
    "plt.xlabel('Threshold')\n",
    "plt.legend(loc = 'best')\n",
    "plt.title('Precision Recall Curve')\n",
    "plt.show()"
   ]
  }
 ],
 "metadata": {
  "kernelspec": {
   "display_name": "Python 3 (ipykernel)",
   "language": "python",
   "name": "python3"
  },
  "language_info": {
   "codemirror_mode": {
    "name": "ipython",
    "version": 3
   },
   "file_extension": ".py",
   "mimetype": "text/x-python",
   "name": "python",
   "nbconvert_exporter": "python",
   "pygments_lexer": "ipython3",
   "version": "3.11.7"
  }
 },
 "nbformat": 4,
 "nbformat_minor": 5
}
