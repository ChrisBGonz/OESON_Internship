{
 "cells": [
  {
   "cell_type": "markdown",
   "id": "739cca7e",
   "metadata": {},
   "source": [
    "# Model Evaluation"
   ]
  },
  {
   "cell_type": "markdown",
   "id": "53ed170b",
   "metadata": {},
   "source": [
    "1. Data Preparation\n",
    "2. Train Test Split\n",
    "3. Model Training\n",
    "4. Model Evaluation Using Metrics\n",
    "5. Cross - Validation\n",
    "6. Confusion Matrix\n",
    "7. Precision - Recall Curve\n",
    "8. ROC Curve"
   ]
  },
  {
   "cell_type": "markdown",
   "id": "af7aaafa",
   "metadata": {},
   "source": [
    "## 1. Data Preparation"
   ]
  },
  {
   "cell_type": "code",
   "execution_count": 1,
   "id": "7e930c4b",
   "metadata": {},
   "outputs": [],
   "source": [
    "#Import Necessary Libraries\n",
    "import pandas as pd\n",
    "import numpy as np\n",
    "import matplotlib.pyplot as plt\n",
    "import seaborn as sns\n",
    "\n",
    "from sklearn.model_selection import train_test_split, cross_val_score\n",
    "from sklearn.metrics import (accuracy_score, precision_score,f1_score, confusion_matrix, precision_recall_curve,\n",
    "                             roc_curve, roc_auc_score, mean_squared_error, mean_absolute_error, r2_score)\n",
    "\n",
    "from sklearn.datasets import load_iris, fetch_california_housing\n",
    "from sklearn.linear_model import LogisticRegression, LinearRegression"
   ]
  },
  {
   "cell_type": "markdown",
   "id": "dd28b680",
   "metadata": {},
   "source": [
    "### Regression Metrics:\n",
    "1. MSE (Mean Squared Error)\n",
    "2. MAE (Mean Absolute Error)\n",
    "3. RMSE (Root Mean Squared Error)\n",
    "4. R2 Score (R Squared Score): Value ranges between 0 and 1. Higher score = more accurate."
   ]
  },
  {
   "cell_type": "markdown",
   "id": "7bec4900",
   "metadata": {},
   "source": [
    "### Classification Metrics:\n",
    "1. Accuracy: Values are correctly classified.\n",
    "2. Precision: How many values are relevent from selected data.\n",
    "3. Recall (Sensitivity): How many relevant items are selected.\n",
    "4. F1 Score: For imbalanced dataset, make balance precision and recall.\n",
    "5. ROC (Receiver Operating Characteristics) and AUC (Area Under Curve): AUC ranges from 0.5 to 1, where 0.5 represents random distribution and 1 represent perfect distribution."
   ]
  },
  {
   "cell_type": "markdown",
   "id": "4506ba80",
   "metadata": {},
   "source": [
    "## 2. Train Test Split"
   ]
  },
  {
   "cell_type": "code",
   "execution_count": 2,
   "id": "dd0b7be6",
   "metadata": {},
   "outputs": [],
   "source": [
    "#Iris Dataset\n",
    "\n",
    "#Train Test Split\n",
    "iris = load_iris()\n",
    "x_iris = iris.data\n",
    "y_iris = iris.target\n",
    "\n",
    "#Splitting Into the Training Set and Test Set\n",
    "x_train_iris, x_test_iris, y_train_iris, y_test_iris = train_test_split(x_iris, y_iris, \n",
    "                                                                        test_size = 0.2, random_state = 42)"
   ]
  },
  {
   "cell_type": "code",
   "execution_count": 3,
   "id": "a0e09c29",
   "metadata": {},
   "outputs": [],
   "source": [
    "#House Dataset\n",
    "\n",
    "#Train Test Split\n",
    "house = fetch_california_housing()\n",
    "x_house = house.data\n",
    "y_house = house.target\n",
    "\n",
    "#Splitting Into the Training Set and Test Set\n",
    "x_train_house, x_test_house, y_train_house, y_test_house = train_test_split(x_house, y_house, \n",
    "                                                                        test_size = 0.2, random_state = 42)"
   ]
  },
  {
   "cell_type": "markdown",
   "id": "981c085f",
   "metadata": {},
   "source": [
    "## 3. Model Training"
   ]
  },
  {
   "cell_type": "code",
   "execution_count": 4,
   "id": "7899bd1b",
   "metadata": {},
   "outputs": [],
   "source": [
    "#Train Logistic Regression Model\n",
    "clf = LogisticRegression(max_iter = 200)\n",
    "clf.fit(x_train_iris, y_train_iris)\n",
    "\n",
    "#Predict on Test Set\n",
    "y_pred_iris = clf.predict(x_test_iris)"
   ]
  },
  {
   "cell_type": "code",
   "execution_count": 5,
   "id": "ffee460e",
   "metadata": {},
   "outputs": [],
   "source": [
    "#Train Linear Regression Model \n",
    "reg = LinearRegression()\n",
    "reg.fit(x_train_house, y_train_house)\n",
    "\n",
    "#Predict on Test Set\n",
    "y_pred_house = reg.predict(x_test_house)"
   ]
  }
 ],
 "metadata": {
  "kernelspec": {
   "display_name": "Python 3 (ipykernel)",
   "language": "python",
   "name": "python3"
  },
  "language_info": {
   "codemirror_mode": {
    "name": "ipython",
    "version": 3
   },
   "file_extension": ".py",
   "mimetype": "text/x-python",
   "name": "python",
   "nbconvert_exporter": "python",
   "pygments_lexer": "ipython3",
   "version": "3.11.7"
  }
 },
 "nbformat": 4,
 "nbformat_minor": 5
}
